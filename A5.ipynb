{
 "cells": [
  {
   "cell_type": "code",
   "execution_count": 1,
   "metadata": {
    "deletable": false,
    "editable": false,
    "nbgrader": {
     "cell_type": "code",
     "checksum": "f7c36e8287280f4cb46c111adea3a01f",
     "grade": false,
     "grade_id": "cell-8270991a73638fc0",
     "locked": true,
     "schema_version": 3,
     "solution": false
    }
   },
   "outputs": [],
   "source": [
    "### Lab 5 Assigned Sunday October 25th, Due Sunday November 1st @ 11:59pm\n",
    "### Maximum grade: 24/ 20\n",
    "\n",
    "The purpose of this lab is to:\n",
    "* Be comfortable calling functions from within other functions\n",
    "* Get some more practice with recursion!"
   ]
  },
  {
   "cell_type": "markdown",
   "metadata": {
    "deletable": false,
    "editable": false,
    "nbgrader": {
     "cell_type": "markdown",
     "checksum": "e9fcf83ae8e60080990993cfd603c5c8",
     "grade": false,
     "grade_id": "cell-c9e1d4e9e2a48f28",
     "locked": true,
     "schema_version": 3,
     "solution": false
    }
   },
   "source": [
    "#### Question 1: Passing a Function as a Variable (3 points)\n",
    "\n",
    "Write four functions:\n",
    "\n",
    "1) bound(l) - given a list of integers `l`, compute a tuple containing the minimum and maximum values (in that order)\n",
    "\n",
    "2) span(l) - given a list of integers `l`, compute the difference between the minimum and maximum function.\n",
    "\n",
    "3) mean(l) - given a list of integers `l`, compute the average.  The return value will be a float.  \n",
    "\n",
    "4) stats(f, l) - given a function `f` and a list `l`, apply the function `f` to the list and return the result."
   ]
  },
  {
   "cell_type": "code",
   "execution_count": null,
   "metadata": {
    "deletable": false,
    "nbgrader": {
     "cell_type": "code",
     "checksum": "bf0a6ac6ff871b24f8074b77c62f49d7",
     "grade": false,
     "grade_id": "cell-456b16f6a5237baa",
     "locked": false,
     "schema_version": 3,
     "solution": true
    }
   },
   "outputs": [],
   "source": [
    "# Write your answer here.\n",
    "def bound(l):\n",
    "    a=max(l)\n",
    "    b=min(l)\n",
    "    ans1=(b,a)\n",
    "    return ans1 \n",
    "\n",
    "def span(l):\n",
    "    x=max(l)\n",
    "    y=min(l)\n",
    "    ans2=x-y \n",
    "    return ans2 \n",
    "def mean(l):\n",
    "    g=sum(l)\n",
    "    h=len(l)\n",
    "    ans3=float(g/h)\n",
    "    return ans3\n",
    "def stats(f,l):\n",
    "    \n",
    "    return f(l)\n",
    "    \n",
    "        \n",
    "\n",
    "# YOUR CODE HERE\n",
    "    raise NotImplementedError()"
   ]
  },
  {
   "cell_type": "code",
   "execution_count": null,
   "metadata": {
    "deletable": false,
    "editable": false,
    "nbgrader": {
     "cell_type": "code",
     "checksum": "948dafa3354057175f1353d9503b53f6",
     "grade": false,
     "grade_id": "cell-5775a6115a2e6dc3",
     "locked": true,
     "schema_version": 3,
     "solution": false
    }
   },
   "outputs": [],
   "source": [
    "DATA1 = [1, 2, 3, 4, 5, 6]\n",
    "DATA2 = [i for i in range(100) if i % 3 == 0]"
   ]
  },
  {
   "cell_type": "code",
   "execution_count": null,
   "metadata": {
    "deletable": false,
    "editable": false,
    "nbgrader": {
     "cell_type": "code",
     "checksum": "85a1605c34e0101e56d6a7b23bcc0604",
     "grade": true,
     "grade_id": "cell-25d6254df22343c7",
     "locked": true,
     "points": 1,
     "schema_version": 3,
     "solution": false
    }
   },
   "outputs": [],
   "source": [
    "assert(stats(span, DATA1) == 5)"
   ]
  },
  {
   "cell_type": "code",
   "execution_count": null,
   "metadata": {
    "deletable": false,
    "editable": false,
    "nbgrader": {
     "cell_type": "code",
     "checksum": "410c38f122d13bbaa955758b3c07c266",
     "grade": true,
     "grade_id": "cell-f530eb0e5b244974",
     "locked": true,
     "points": 1,
     "schema_version": 3,
     "solution": false
    }
   },
   "outputs": [],
   "source": [
    "assert(stats(mean, DATA1) == 3.5)"
   ]
  },
  {
   "cell_type": "code",
   "execution_count": null,
   "metadata": {
    "deletable": false,
    "editable": false,
    "nbgrader": {
     "cell_type": "code",
     "checksum": "583ec860f0b460ab877c65a9df53e3d4",
     "grade": true,
     "grade_id": "cell-9bbddc2ea62546f2",
     "locked": true,
     "points": 1,
     "schema_version": 3,
     "solution": false
    }
   },
   "outputs": [],
   "source": [
    "assert(stats(bound, DATA2) == (0, 99) or stats(bound,DATA2) == [0,99])"
   ]
  },
  {
   "cell_type": "markdown",
   "metadata": {
    "deletable": false,
    "editable": false,
    "nbgrader": {
     "cell_type": "markdown",
     "checksum": "a7bfaa85179b23848755f4d13f662454",
     "grade": false,
     "grade_id": "cell-2e792f8f5e8ffe7c",
     "locked": true,
     "schema_version": 3,
     "solution": false
    }
   },
   "source": [
    "#### Question 2: Fibonacci Sum (5 points)\n",
    "\n",
    "The $n^{th}$ term of the Fibonacci sequence is generated by adding the previous two terms. The first few terms are:\n",
    "$$ 1, 1, 2, 3, 5, 8, 13, 21, 34, 55 ... $$\n",
    "\n",
    "Write a function fibsum(N) that returns the sum of all *even valued* fibonacci terms that are less than N.\n",
    "\n",
    "For instance, for N = 40, we would return 44 (2 + 8 + 34)\n",
    "\n",
    "HINT: You may want to consult slide set 5."
   ]
  },
  {
   "cell_type": "code",
   "execution_count": 48,
   "metadata": {
    "deletable": false,
    "nbgrader": {
     "cell_type": "code",
     "checksum": "abb37e85846313c4d33f17cf3358c55a",
     "grade": false,
     "grade_id": "cell-bc772084dd8eaf72",
     "locked": false,
     "schema_version": 3,
     "solution": true
    }
   },
   "outputs": [],
   "source": [
    "# Write your answer here.\n",
    "def fibsum(N):\n",
    "    x=[]\n",
    "    y=[]\n",
    "    num1 = 0\n",
    "    num2 = 1\n",
    "    num3=0\n",
    "    def fib2(N,num3,num1,num2):\n",
    "        while N>=num3:\n",
    "            \n",
    "            num3 = num1 + num2\n",
    "            num1 = num2\n",
    "            num2 = num3\n",
    "            x.append(num3)\n",
    "\n",
    "        \n",
    "        for val in x :\n",
    "            if val<N and val%2==0:\n",
    "                y.append(val)\n",
    "        z=sum(y)\n",
    "        return z\n",
    "    return fib2(N,num3,num1,num2)\n",
    " \n",
    "# YOUR CODE HERE\n",
    "    raise NotImplementedError()\n",
    "\n"
   ]
  },
  {
   "cell_type": "code",
   "execution_count": 49,
   "metadata": {},
   "outputs": [
    {
     "data": {
      "text/plain": [
       "True"
      ]
     },
     "execution_count": 49,
     "metadata": {},
     "output_type": "execute_result"
    }
   ],
   "source": [
    "fibsum(-1) == 0"
   ]
  },
  {
   "cell_type": "code",
   "execution_count": 50,
   "metadata": {},
   "outputs": [
    {
     "data": {
      "text/plain": [
       "True"
      ]
     },
     "execution_count": 50,
     "metadata": {},
     "output_type": "execute_result"
    }
   ],
   "source": [
    "fibsum(40) == 44"
   ]
  },
  {
   "cell_type": "code",
   "execution_count": 51,
   "metadata": {},
   "outputs": [
    {
     "data": {
      "text/plain": [
       "True"
      ]
     },
     "execution_count": 51,
     "metadata": {},
     "output_type": "execute_result"
    }
   ],
   "source": [
    "fibsum(4*10**6) == 4613732"
   ]
  },
  {
   "cell_type": "markdown",
   "metadata": {},
   "source": [
    "If these cases run too slowly, you may need to modify your algorithm:"
   ]
  },
  {
   "cell_type": "code",
   "execution_count": 52,
   "metadata": {},
   "outputs": [
    {
     "data": {
      "text/plain": [
       "True"
      ]
     },
     "execution_count": 52,
     "metadata": {},
     "output_type": "execute_result"
    }
   ],
   "source": [
    "fibsum(10**1000) == 5933608372629145798383544242983334636899291050047879463824293309987965343882047512984107588698285346632851981219062849855970529781272597133037980905941846567381108185609155598002212061744588022560666944282767462121189302686560263335164922661315868839451963485338930580620175723568033024082499799721271328257452544308488139652872804895873257816488895097469482618389027664983663019272178104872928427579529466738208129384632199186931292053505993390945828326147177151692121336204311895165981982728598087114287157410488507274530820653725550887083368470109297084168625855256569091543118913762196588623005900476707497335157598848209727884494346486850096686339118011583322943230155678188177779582642187147830838023871251508179354174068722627132322379667374013645021983195445921872203922884810130060459330632124749284199708376404669104869936023808844711242768526994447908900991933324168339513635421902151293084025917812258411608177117040739665776652404631304245925539202140227103643288849790111066129620913716"
   ]
  },
  {
   "cell_type": "code",
   "execution_count": 53,
   "metadata": {},
   "outputs": [
    {
     "data": {
      "text/plain": [
       "True"
      ]
     },
     "execution_count": 53,
     "metadata": {},
     "output_type": "execute_result"
    }
   ],
   "source": [
    "fibsum(10**10000) == 6699559432585660545573702667084889471167548773597601986481641090446197952712804461154129282458711835317064458448149169234470011778174418365079734961165609520696228859092291252739958860174970425289913896373982524025730492299535004427028788703779885176083917699562860918497323462333709760892065259929895842180757940776104907131526748923152364416432274806937079977677152203430758371528777273426810261967496544308254986764531933263242154357764546191415817871614846861410010482568300686033478450295813207065383930067909263776045829506906129092493811782915469448125217934476410108381371560131575694900421937937560793969157346662004140263746686287943354704134224487565966502139965935879931203379811054522254417930205809519962200030648267537578828887461807677288341217928560065635529809314994693648096547150895428401563383973912241282496393193068676578945003920255142257645513082935697624070043084104895184744821027473980767787959157719864153354417489834278474794668828180652816569839652583760076563703007078472828572998387858294441265495505964168666491283334693208848992018518221671107638109228908869463915017151926499700223213224746894993224139274484035253769394889358025482734683133711789172092180687346523953211299462230355746380413684081815958336520812595742744354364850026413643515012649060802696371835896948898750049841914010544083083072143246423681512607160467315894898295393233731816803814595968050847575109047815122974769489219193144703390472916521006261010907793055236376575453887459395639693961814495598526618907113476832123887477894382557666012992282179871291158403339047578096518489586872398298361528187953935855765682840184864556339364751264452546895815678757400830400758456954336571114383511030430430794865619730836206946139364700889555625225865142184498975714617870760212990468576194430907636620364096398439597120565745988643079868609503725477137311957820103190906982178448087223104484982565092982648391709646601601791307302935277793631741248483769465307112681190288665573979756550097795102428679915979257134233678903459868627459525914768637313194856921878336607599740938923062677480658374923951805349002395236508974135704462472175524478742617796572732355812854424929969280235441641960343543904339192590624422843681310080332342226809819878986830041672298016768052225250348318407356186347677108763668998431288567688009001266741322006532365900296067682260130081568414862371875664103738999873281260627320325706242390648611413318784206249461336653396937042196775055292480866866591115960083117497193040690873559862170589785978696196473142297391842596152633213093903605610548182448333197167038522718591353628681348214454673350189865898820618864508773913996348110939986838538689839328877757567821931467012412537971231528991193848334008880351430281432818790343536478181741983038785690626138319924647108106458281154569062500163473398347614975054135060149377334043994118223722246442606760221866570623359717528463564705561853439714275146144969584625020943157778215630375060089096749295342049338381533002976126537378944413398672066375834861835762057157099264536572103783479904442950533478701826005029803841154401620961421125276962933914155673435205853673583907003757383309908493424419862295711566563838234823842722319407517053871452845280379708913288894561078584464866883826792085163661586053569401851953413998228213415637049526138524879393807446983305109251852283153180624526155345296659236656891901436548117351102579599725494281283929955912695711428127526284225588804721014729687551779347443862764532533993953623881441901017990643430104597139212120594922897417433193240487708336432182905721763243738145564282991309968962865200024633437178880407621147430625263884239829630337420160193585599777115337471245897099909830144309084446072429210890853956706178522130717899875105591623993227084619686915726303968454846810812670910641357364770546110433601685683480388214666739440248788851836508633069618674226930206401723886483111308210778027706588902645269705537972874848745123910782216388048765150308545688383154995779589249039185247688856002405772637327226486864340724301285425082979895014736052585112783013367875696638479347600539876372518656375494020110587734437524353447554756859696091918896851713170613875456943054995037309977790716348039998043245276462508730894047629490960661782258669711094301970252719679006479334288175177335983574224270993527811768548708772075619493381336092917675136608843900626483139215931735267203655218998357629060030641274537569917230053462033808886826767201687603126084361046489811881582827084919364465480232232251683703107659656867178098892775950447929021918720085882031855068007971910243865242902075209059611623530537225059270750341361623796724713806301467817785132728262662226056779766297865157818714225935738308207501987797603936690939113622796672842950184465387965779696290078976543433942326993874949136719649202440419351467027761851293468408746906932696468309139998639700294794262924439259358189546727906532919134254184960821986317229123959039021651533906261047559196081439365275043809947866893155396778240828938452827009514373770424210738029103780204607226941485380550269553596192027571314080503946672308472895299520943618752539005389025994285345911539975346687685448147689081106537019413221517850836230579544698672360066018132535326689998380550955508916517047750821423678263550998622012246648229375038463105509123128568168022590262248224699681122169817372759524255332271133838606814912160708460548021679967069663290500079680201115907611367397041632063803422122357419262793954275973504580189973928458303181286157282465514438359378712572836027224886460302217813023722344650044057284373037487331974538440444839257007002572942746386190328757889959553302808368593859572496818989771627875831404115942324089299007043590537188304600876430370101246177693864646875293368408075546149587532590146046307940143145170259501879633378727832654396913119090794024193127426722294291899129526635509666401346566324117080504880813531517362126302071547638039707703575512984865879662751568944248849455529859549053781890637080407414480694198012687675408000347019626333805884623594725397397730882037835972361331193369935623856328468216868876766402607413883325782227211118944183083842508312107435194526558237381144780669263870481952249017823111001456682825902993323148491237405846285081096000215143429420743467037656605041955197606401039182731045209160246658828013084890749968152168734329395729088059370351397750525386261464976079891150939692145791760536143844126578900694666962116098870431082102338004405548940986651207500829795972633670482911751493498610179051655782606778613149638713160687859706688923815267934301227748234419085021114600060456895840445895000903707181252856038191097334181412632990017097904730407991059711867580546831124923550333421062940026709886457698947676526515488731123056695099561280429415974907155120930582165077408142538804997392401729340198252443143751840351938500180471396451078043318022813718525130286568397205838434355142809971390203949849831760121543823393349516738784264409497647428783194900046540042072745169037634588637390336441928707267203446713157293984992173732499395884667904178466265342071149119668064699079051401991574802966746313619750996181631638521807567859191537471504450106077904830388223985737292157929614076428959503687851318743103880221469954865863049241452229342365778087324280964775732538556178064700197508263897772866435128369213708932124034085956096768915569504350568736449657751587771610087990855977086120805491270392230637649830079774164498823424403912605875319864787901423755935536894581951433343329145041012051200981283605184142303066515938264632122976606787542649050410299400711993187424144272506244337780042757958484122407927715877279658014111507101395198300204643641886162712088419887930140636880896994303365252882689666771476322707680220380822274866778443158008895697428385492108651753047195976409203756775278673160974987756945520799910746384899971127077677486318968559764302613524072622982596192406661564082048548274661925417569071175247185852144690359753675001778242513570812875852740129530748136198317684653252138703345674732501666256251003788670603938442541650629585053027738553956505574966258724539333669832347350522952097747335697294695655865521656181187694387205959207181537234540197370813746054560033123001849805594961388024724565960983729629002358765565333611303244381693649142415269848935868243717355346336460409513530433094860336611705776830939333438532297716119202154301990437527773135049678495979764589356011715483187962185328174222959256195971428170815356408466016826581970396276428724172892576788184654653979819444788229970870741912298827873406076383194738696590669188154115423719759725203777926023297448041758772516848642379681098529769752380741468104663578064864799971534692534443227685295164302719841786337051963656768742393378748012422637743430288027634630288072943822608605929100738364315388908364884835836327577964617179359436199853428852741942587346967906779362664809098615023056549149794913463129040849583238476429861381692803234207508556025615112734905492522439297607498306713034372157913178165979795242898485438164077736573803987665453800099056067140828404012478713596309055717476071052120275136594046843455687207699703111604117749910097409163448796955504824896863000639873956766352420970842700580538202873290424515056567139531897749411262738122903567614462001583826111124877203237313838208019106439757803145527852815064631536931485283281359975039172147234848145136936155183824227415239485723468598969988055850503488605463345369990708368814762044947036329786113964138824466328406620819683485006156058462937935225514534159537697116657426746747000390032900809734420481630696958310951513291542821900228710825434801996384090603164466117688682144730535006939498525816301981771991943271084985657478229818815217763847027854263296727301956426372767666815542776283790115944073599765938303798284803712754269377654272283866744578623692932087544881833217085767633512288979009729489670770865254341868242923648006640258380974"
   ]
  },
  {
   "cell_type": "code",
   "execution_count": null,
   "metadata": {
    "deletable": false,
    "editable": false,
    "nbgrader": {
     "cell_type": "code",
     "checksum": "843561fcbacce4601c4a3106ee861562",
     "grade": true,
     "grade_id": "cell-3b30499e72fbe01b",
     "locked": true,
     "points": 1,
     "schema_version": 3,
     "solution": false
    }
   },
   "outputs": [],
   "source": [
    "# Hidden test cell"
   ]
  },
  {
   "cell_type": "code",
   "execution_count": null,
   "metadata": {
    "deletable": false,
    "editable": false,
    "nbgrader": {
     "cell_type": "code",
     "checksum": "3fc89d26ff332807dbb06944c73f6897",
     "grade": true,
     "grade_id": "cell-db1809540893aa53",
     "locked": true,
     "points": 1,
     "schema_version": 3,
     "solution": false
    }
   },
   "outputs": [],
   "source": [
    "# Hidden test cell"
   ]
  },
  {
   "cell_type": "code",
   "execution_count": null,
   "metadata": {
    "deletable": false,
    "editable": false,
    "nbgrader": {
     "cell_type": "code",
     "checksum": "c0e8643c83a510ce67cd508f6c8639e9",
     "grade": true,
     "grade_id": "cell-ef338cc40aa0c02f",
     "locked": true,
     "points": 1,
     "schema_version": 3,
     "solution": false
    }
   },
   "outputs": [],
   "source": [
    "# Hidden test cell"
   ]
  },
  {
   "cell_type": "code",
   "execution_count": null,
   "metadata": {
    "deletable": false,
    "editable": false,
    "nbgrader": {
     "cell_type": "code",
     "checksum": "b4702bdc884c8bfe424dd61b13915924",
     "grade": true,
     "grade_id": "cell-e3cd81e5a6885828",
     "locked": true,
     "points": 1,
     "schema_version": 3,
     "solution": false
    }
   },
   "outputs": [],
   "source": [
    "# Hidden test cell"
   ]
  },
  {
   "cell_type": "code",
   "execution_count": null,
   "metadata": {
    "deletable": false,
    "editable": false,
    "nbgrader": {
     "cell_type": "code",
     "checksum": "3f770ad68811243ac947024a9f52fa11",
     "grade": true,
     "grade_id": "cell-c9594a91e76e38d7",
     "locked": true,
     "points": 1,
     "schema_version": 3,
     "solution": false
    }
   },
   "outputs": [],
   "source": [
    "# Hidden test cell"
   ]
  },
  {
   "cell_type": "markdown",
   "metadata": {
    "deletable": false,
    "editable": false,
    "nbgrader": {
     "cell_type": "markdown",
     "checksum": "6dd0faba739bf94d6050ab0b500568bb",
     "grade": false,
     "grade_id": "cell-8fa5e91ba2d14adc",
     "locked": true,
     "schema_version": 3,
     "solution": false
    }
   },
   "source": [
    "#### Question 3: Newton's Method (4 points)\n",
    "\n",
    "Newton's method (also known as the Newton-Raphson method) is an iterative way to find the roots of a function--that is, the values of $x$ such that $f(x) = 0$. The idea is this: given a function, $f(x)$, take an initial guess of the roots, $x_0$. You can then find your next guess as: $$x_1 = x_0 - \\frac{f(x_0)}{f'(x_0)}$$\n",
    "\n",
    "Where $f'(x)$ is the derivative $f(x)$. $f(x_1)$ will be closer to $0$ than $f(x_0)$. \n",
    "\n",
    "Your original guess does not have to be close to an actual root, it will converge regardless.\n",
    "\n",
    "For a more detailed description of the algorithm, see: https://en.wikipedia.org/wiki/Newton%27s_method\n",
    "\n",
    "Write a function, `newton(f, fprime, eps)` that takes a function, its derivative, and a tolerance as output, and returns a value of $x$ that evaluates to approximately $0$ within `eps` (that is, `|f(x)| < eps`).\n",
    "\n",
    "Note: remember that you can approach 0 from either side. `f(x) = -30` is most certainly less than `eps = 0.001`, but much further from 0 than we'd like."
   ]
  },
  {
   "cell_type": "code",
   "execution_count": 62,
   "metadata": {
    "deletable": false,
    "nbgrader": {
     "cell_type": "code",
     "checksum": "b620d72a7f2c06299d5110527254205b",
     "grade": false,
     "grade_id": "cell-6e59a5187b224404",
     "locked": false,
     "schema_version": 3,
     "solution": true
    }
   },
   "outputs": [],
   "source": [
    "# Write your answer here.\n",
    "def newton(f, fprime, eps) :\n",
    "    def newtonhelper(f, fprime, eps,x1=1,max_call=10000,x2=1):\n",
    "    \n",
    "    \n",
    "        while abs(f(x1))>eps and max_call !=0:\n",
    "\n",
    "            x2= x1-(f(x1)/fprime (x1))\n",
    "            x1=x2\n",
    "\n",
    "\n",
    "\n",
    "        return x2\n",
    "    return newtonhelper(f, fprime, eps,x1=1,max_call=10000,x2=1)\n",
    "       \n",
    "    \n",
    "\n",
    "# YOUR CODE HERE\n",
    "    raise NotImplementedError()\n"
   ]
  },
  {
   "cell_type": "code",
   "execution_count": 63,
   "metadata": {},
   "outputs": [
    {
     "data": {
      "text/plain": [
       "True"
      ]
     },
     "execution_count": 63,
     "metadata": {},
     "output_type": "execute_result"
    }
   ],
   "source": [
    "# Defining our functions\n",
    "f1 = lambda x: x**2 + 3*x + 2\n",
    "f1prime = lambda x: 2*x + 3\n",
    "\n",
    "# The test case\n",
    "abs(f1(newton(f1, f1prime, 0.0001))) < 0.0001"
   ]
  },
  {
   "cell_type": "markdown",
   "metadata": {},
   "source": [
    "Note: The above are lambda functions, and behave just like regular functions when you call them. That is, calling `f1(7)` will return: $$7^2 + 3(7) + 2 = 72$$"
   ]
  },
  {
   "cell_type": "code",
   "execution_count": 64,
   "metadata": {
    "deletable": false,
    "editable": false,
    "nbgrader": {
     "cell_type": "code",
     "checksum": "f3329e822828b93a1bbc096230132133",
     "grade": false,
     "grade_id": "cell-82b2dd0d8c3baa20",
     "locked": true,
     "schema_version": 3,
     "solution": false
    }
   },
   "outputs": [
    {
     "data": {
      "text/plain": [
       "True"
      ]
     },
     "execution_count": 64,
     "metadata": {},
     "output_type": "execute_result"
    }
   ],
   "source": [
    "f1(7) == 72"
   ]
  },
  {
   "cell_type": "code",
   "execution_count": 65,
   "metadata": {},
   "outputs": [
    {
     "data": {
      "text/plain": [
       "True"
      ]
     },
     "execution_count": 65,
     "metadata": {},
     "output_type": "execute_result"
    }
   ],
   "source": [
    "# Defining functions for second test case\n",
    "from math import log\n",
    "g = lambda x: log(x)\n",
    "gp = lambda x: 1 / x\n",
    "\n",
    "# Test case\n",
    "abs(g(newton(g, gp, 0.0001))) < 0.0001"
   ]
  },
  {
   "cell_type": "code",
   "execution_count": 66,
   "metadata": {},
   "outputs": [
    {
     "data": {
      "text/plain": [
       "True"
      ]
     },
     "execution_count": 66,
     "metadata": {},
     "output_type": "execute_result"
    }
   ],
   "source": [
    "# Functions for third test case. \n",
    "# Note there isn't actually a 0 for this function, you just need to get \"close enough\"\n",
    "from math import e\n",
    "def h(x):\n",
    "    return e**x\n",
    "\n",
    "def hprime(x):\n",
    "    return e**x\n",
    "\n",
    "# Test case\n",
    "h(newton(h, hprime, 0.000001)) < 0.000001"
   ]
  },
  {
   "cell_type": "code",
   "execution_count": 67,
   "metadata": {},
   "outputs": [
    {
     "name": "stdout",
     "output_type": "stream",
     "text": [
      "This polynomial is:\n",
      "0.58*x**8 + 9.83*x**7 + 1.64*x**6 + 3.11*x**5 + 9.45*x**4 + 2.42*x**3 + 6.59*x**2 + 8.16*x**1 + 4.86\n",
      "Its derivative is:\n",
      "4.65*x**7 + 68.83*x**6 + 9.85*x**5 + 15.57*x**4 + 37.81*x**3 + 7.25*x**2 + 13.18*x**1 + 8.16\n"
     ]
    }
   ],
   "source": [
    "# Generates a random polynomial every time you run this cell\n",
    "from random import randrange, uniform\n",
    "#from random import randrange, uniform\n",
    "\n",
    "DEGREE = randrange(5, 10)\n",
    "COEF = [uniform(0.01,10) for i in range(DEGREE)]\n",
    "\n",
    "r = lambda x: sum([COEF[i] * x ** (DEGREE-i-1) for i in range(DEGREE)])\n",
    "rprime = lambda x: sum([COEF[i] * (DEGREE-i-1) * x ** (DEGREE-i-2) for i in range(DEGREE-1)])\n",
    "\n",
    "poly = ' + '.join([\"%.2f*x**%s\" % (COEF[i], DEGREE-i-1) for i in range(DEGREE-1)]) + (\" + %.2f\" % COEF[-1])\n",
    "diff = ' + '.join([\"%.2f*x**%s\" % (COEF[i]*(DEGREE-i-1), DEGREE-i-2) for i in range(DEGREE-2)]) + (\" + %.2f\" % COEF[-2])\n",
    "\n",
    "print(\"This polynomial is:\")\n",
    "print(poly)\n",
    "print(\"Its derivative is:\")\n",
    "print(diff)\n"
   ]
  },
  {
   "cell_type": "markdown",
   "metadata": {},
   "source": [
    "Note that because the polynomial for this test case is random, it is possible that it has no zeroes. If this happens this code cell will continue to run forever. None of the graded test cases will have this problem, however.\n",
    "\n",
    "If you would like to remedy this problem, you could add an optional `maxiter` argument to your function that allows it to terminate after performing `maxiter` iterations."
   ]
  },
  {
   "cell_type": "code",
   "execution_count": 68,
   "metadata": {},
   "outputs": [
    {
     "data": {
      "text/plain": [
       "True"
      ]
     },
     "execution_count": 68,
     "metadata": {},
     "output_type": "execute_result"
    }
   ],
   "source": [
    "x = newton(r, rprime, 10**-9)\n",
    "r(x) < 10**-9"
   ]
  },
  {
   "cell_type": "code",
   "execution_count": null,
   "metadata": {
    "deletable": false,
    "editable": false,
    "nbgrader": {
     "cell_type": "code",
     "checksum": "bbd41d2a125e839fa3285cb3f2298c50",
     "grade": true,
     "grade_id": "cell-ab5bfc6fa8d874ac",
     "locked": true,
     "points": 1,
     "schema_version": 3,
     "solution": false
    }
   },
   "outputs": [],
   "source": [
    "# Hidden test cell"
   ]
  },
  {
   "cell_type": "code",
   "execution_count": null,
   "metadata": {
    "deletable": false,
    "editable": false,
    "nbgrader": {
     "cell_type": "code",
     "checksum": "4fc7f919d4041cf30aad012d12cf84d0",
     "grade": true,
     "grade_id": "cell-1107faa1c8f9fd82",
     "locked": true,
     "points": 1,
     "schema_version": 3,
     "solution": false
    }
   },
   "outputs": [],
   "source": [
    "# Hidden test cell"
   ]
  },
  {
   "cell_type": "code",
   "execution_count": null,
   "metadata": {
    "deletable": false,
    "editable": false,
    "nbgrader": {
     "cell_type": "code",
     "checksum": "e67b85a210c9793035955963b2bd1499",
     "grade": true,
     "grade_id": "cell-26e40b8d4be45e36",
     "locked": true,
     "points": 2,
     "schema_version": 3,
     "solution": false
    }
   },
   "outputs": [],
   "source": [
    "# Hidden test cell"
   ]
  },
  {
   "cell_type": "markdown",
   "metadata": {
    "deletable": false,
    "editable": false,
    "nbgrader": {
     "cell_type": "markdown",
     "checksum": "5414c488ba6744fed70e847c191a711a",
     "grade": false,
     "grade_id": "cell-0880dc64b4822f45",
     "locked": true,
     "schema_version": 3,
     "solution": false
    }
   },
   "source": [
    "#### Question 4: Intersection of Two Functions (4 points)\n",
    "\n",
    "Write a function, `intersect(f, g, a, b, eps)` that takes in two functions, `f` and `g`, and finds the point of intersection between `a` and `b` with a tolerance of `f`. In other words, find the point `c` such that:\n",
    "$$ |f(c) - g(c)| < eps$$\n",
    "and\n",
    "$$ a \\leq c \\leq b $$\n",
    "\n",
    "Use a modified version of <a href=https://en.wikipedia.org/wiki/Bisection_method#Algorithm>the bisection method</a> to find `c`. You will have to modify the algorithm such that rather than finding when `f(c) = 0`, you find when `f(c) - g(c) = 0`."
   ]
  },
  {
   "cell_type": "code",
   "execution_count": 69,
   "metadata": {
    "deletable": false,
    "nbgrader": {
     "cell_type": "code",
     "checksum": "ab3f38ac34db20de339ed4d1c609b0b7",
     "grade": false,
     "grade_id": "cell-9209a400fa396373",
     "locked": false,
     "schema_version": 3,
     "solution": true
    }
   },
   "outputs": [],
   "source": [
    "# Write your answer here.\n",
    "# YOUR CODE HERE\n",
    "def intersect(f, g, a, b, eps) :\n",
    "    N_Max=1000 \n",
    "    N=1 \n",
    "    c=(b+a)/2 \n",
    "    while N<=N_Max :\n",
    "        \n",
    "        if (f(c)-g(c))== 0 or (b-a)/2<eps:\n",
    "            return c \n",
    "             \n",
    "        if (f(c)-g(c))<0 and (f(a)-g(a))<0 or (f(c)-g(c))>=0 and (f(a)-g(a))>=0:\n",
    "            a=c \n",
    "        else:\n",
    "            b=c \n",
    "        c=(b+a)/2 \n",
    "    raise NotImplementedError()"
   ]
  },
  {
   "cell_type": "code",
   "execution_count": 70,
   "metadata": {},
   "outputs": [
    {
     "data": {
      "text/plain": [
       "True"
      ]
     },
     "execution_count": 70,
     "metadata": {},
     "output_type": "execute_result"
    }
   ],
   "source": [
    "f1 = lambda x: 2*x + 3\n",
    "g1 = lambda x: 3*x - 4\n",
    "\n",
    "# point of intersection\n",
    "x = intersect(f1,g1, -10, 10, 0.001)\n",
    "\n",
    "# test case\n",
    "abs(f1(x) - g1(x)) < 0.001"
   ]
  },
  {
   "cell_type": "code",
   "execution_count": 71,
   "metadata": {},
   "outputs": [
    {
     "name": "stdout",
     "output_type": "stream",
     "text": [
      "Passed for x1\n",
      "Passed for x2\n"
     ]
    }
   ],
   "source": [
    "f2 = lambda x: x**2 + 3*x + 9\n",
    "g2 = lambda x: -2*x**2 + 10*x + 8\n",
    "\n",
    "x1 = intersect(f2, g2, 0, 1, 10**-9)\n",
    "x2 = intersect(f2, g2, 1, 3, 10**-9)\n",
    "\n",
    "# Testing both points of intersection separately\n",
    "if round(x1, 7) == 0.1528729: \n",
    "    print(\"Passed for x1\")\n",
    "else:\n",
    "    print(\"Failed for x1\")\n",
    "    \n",
    "if round(x2, 7) == 2.1804604:\n",
    "    print(\"Passed for x2\")\n",
    "else:\n",
    "    print(\"Failed for x2\")"
   ]
  },
  {
   "cell_type": "code",
   "execution_count": null,
   "metadata": {
    "deletable": false,
    "editable": false,
    "nbgrader": {
     "cell_type": "code",
     "checksum": "b053552c206c8ffa4ba35d9075746da6",
     "grade": true,
     "grade_id": "cell-b97f26dd1961c7c2",
     "locked": true,
     "points": 1,
     "schema_version": 3,
     "solution": false
    }
   },
   "outputs": [],
   "source": [
    "# Hidden test cell"
   ]
  },
  {
   "cell_type": "code",
   "execution_count": null,
   "metadata": {
    "deletable": false,
    "editable": false,
    "nbgrader": {
     "cell_type": "code",
     "checksum": "0d802eb2144d40ff6a3307c1d7319db6",
     "grade": true,
     "grade_id": "cell-d9c21b0e6bc54327",
     "locked": true,
     "points": 2,
     "schema_version": 3,
     "solution": false
    }
   },
   "outputs": [],
   "source": [
    "# Hidden test cell"
   ]
  },
  {
   "cell_type": "code",
   "execution_count": null,
   "metadata": {
    "deletable": false,
    "editable": false,
    "nbgrader": {
     "cell_type": "code",
     "checksum": "6b454a6bddab612ac35504b594425f47",
     "grade": true,
     "grade_id": "cell-7b395fcf8e40ede3",
     "locked": true,
     "points": 1,
     "schema_version": 3,
     "solution": false
    }
   },
   "outputs": [],
   "source": [
    "# Hidden test cell"
   ]
  },
  {
   "cell_type": "markdown",
   "metadata": {},
   "source": [
    "#### Question 5: Recursive Lightning in a Soda Pop Bottle (4 points)\n",
    "\n",
    "In Doesntexistland, soda pop stores refund soda pop bottles as an environmental initiative.  However, the store will only exchange a certain number of bottles at a time.  \n",
    "\n",
    "If a person has a certain amount of money to start with, how many bottles of soda pop can they purchase, given the price of soda pop, and the current exchange rate?\n",
    "\n",
    "You must write a recursive function in Python __lightningBottle__ which simulates multiple trips to the soda pop store.  Your function must take \n",
    "\n",
    "* __money__ -> the amount of money the customer has\n",
    "* __bottlesOwned__ -> the number of bottles the customer has to exchange\n",
    "* __price__ -> the price of a bottle of soda pop\n",
    "* __exchangeRate__ -> the exchange rate, expressed as a tuple.  the first element is the minimum size of the group of bottles that can be exchanged.  The second argument is the refund received for one group of bottles.  \n",
    "\n",
    "A customer may refund as many groups of bottles as they like on a single visit to the store, but the total number of bottles refunded must be a multiple of the first element of __exchangeRate__.  \n",
    "\n",
    "The function must output the total number of bottles which the customer is able to purchase over all trips, until the customer runs out of money.  \n",
    "\n",
    "*McMaster University and the student success team behind CS 1MD3 do not in any way endorse the drinking of soda pop. Always drink sugary beverages responsibly.*"
   ]
  },
  {
   "cell_type": "code",
   "execution_count": 183,
   "metadata": {
    "deletable": false,
    "nbgrader": {
     "cell_type": "code",
     "checksum": "083b18298a38e5070041b580bc625336",
     "grade": false,
     "grade_id": "cell-b13d3512989a9754",
     "locked": false,
     "schema_version": 3,
     "solution": true,
     "task": false
    }
   },
   "outputs": [],
   "source": [
    "# Write your answer here.\n",
    "def lightningBottle(money, bottlesOwned, price, exchangeRate):\n",
    "    money += (bottlesOwned//exchangeRate[0]*exchangeRate[1])\n",
    "    def helper(money, bottlesOwned, price, exchangeRate):\n",
    "        \n",
    "        while money < price:return 0\n",
    "        bottlesOwned = money//price\n",
    "        money %= price\n",
    "        ans = bottlesOwned+lightningBottle(money, bottlesOwned, price, exchangeRate)\n",
    "        return ans \n",
    "    return helper(money, bottlesOwned, price, exchangeRate)\n",
    "    \n",
    " # YOUR CODE HERE\n",
    "    raise NotImplementedError()"
   ]
  },
  {
   "cell_type": "code",
   "execution_count": 184,
   "metadata": {},
   "outputs": [
    {
     "name": "stdout",
     "output_type": "stream",
     "text": [
      "Test case 1 passed\n",
      "Test case 2 passed\n",
      "Test case 3 passed\n"
     ]
    }
   ],
   "source": [
    "# Explanation: \n",
    "# With $11, 3 bottles can be purchased. 2 of those bottles can be returned for $1, leaving remainder/carryOver at $3 and 1 bottle\n",
    "if lightningBottle(11,0,3,(2,1)) == 4: \n",
    "    print(\"Test case 1 passed\")\n",
    "if(lightningBottle(49,0,3,(3,2)) == 20):\n",
    "    print(\"Test case 2 passed\")\n",
    "if(lightningBottle(99,0,4,(7,1)) == 25):\n",
    "    print(\"Test case 3 passed\")"
   ]
  },
  {
   "cell_type": "code",
   "execution_count": 165,
   "metadata": {
    "deletable": false,
    "editable": false,
    "nbgrader": {
     "cell_type": "code",
     "checksum": "7e90c01068235fd5e4e93aa36357accf",
     "grade": true,
     "grade_id": "cell-21952759ea46058c",
     "locked": true,
     "points": 1,
     "schema_version": 3,
     "solution": false,
     "task": false
    }
   },
   "outputs": [],
   "source": [
    "# Hidden test cell"
   ]
  },
  {
   "cell_type": "code",
   "execution_count": null,
   "metadata": {
    "deletable": false,
    "editable": false,
    "nbgrader": {
     "cell_type": "code",
     "checksum": "2b963e56553378a5d7a605d9d73eccb7",
     "grade": true,
     "grade_id": "cell-92735d8de0a5377e",
     "locked": true,
     "points": 1,
     "schema_version": 3,
     "solution": false,
     "task": false
    }
   },
   "outputs": [],
   "source": [
    "# Hidden test cell"
   ]
  },
  {
   "cell_type": "code",
   "execution_count": null,
   "metadata": {
    "deletable": false,
    "editable": false,
    "nbgrader": {
     "cell_type": "code",
     "checksum": "37876eec60fc3e28919b8b058fbbde9e",
     "grade": true,
     "grade_id": "cell-af76b2a9e89cf43f",
     "locked": true,
     "points": 2,
     "schema_version": 3,
     "solution": false,
     "task": false
    }
   },
   "outputs": [],
   "source": [
    "# Hidden test cell"
   ]
  },
  {
   "cell_type": "markdown",
   "metadata": {},
   "source": [
    "#### Bonus Question : Power Lists (4 points)\n",
    "\"A powerlist of a list `l` is the list of all sublists of `l`, consisting of possibly non-consecutive elements of `l` in the order in which they appear in `l`. For example, `[1, 2]` is a sublist of `[1, 1, 2, 3, 2]` but `[2, 1]` is not. Write a function `powerlist(l)` that returns the powerlist of `l`.\""
   ]
  },
  {
   "cell_type": "code",
   "execution_count": 191,
   "metadata": {
    "deletable": false,
    "nbgrader": {
     "cell_type": "code",
     "checksum": "4a98f3301f3e613ea5a246a71f51e189",
     "grade": false,
     "grade_id": "cell-dfdaa3dc16fac1d2",
     "locked": false,
     "schema_version": 3,
     "solution": true
    }
   },
   "outputs": [],
   "source": [
    "#def powerlist( l ):\n",
    "    # Replace this line with your body\n",
    "def powerlist(l) :\n",
    "    def powerlisthelper(l,sublist=[[]]):\n",
    "        for value1 in l:\n",
    "            sublist +=[value2+[value1] for value2 in sublist]\n",
    "        return sublist \n",
    "    return powerlisthelper(l,sublist=[[]])\n",
    "            \n",
    "\n",
    "# YOUR CODE HERE\n",
    "    raise NotImplementedError()"
   ]
  },
  {
   "cell_type": "code",
   "execution_count": 192,
   "metadata": {},
   "outputs": [
    {
     "data": {
      "text/plain": [
       "True"
      ]
     },
     "execution_count": 192,
     "metadata": {},
     "output_type": "execute_result"
    }
   ],
   "source": [
    "powerlist([]) == [[]]"
   ]
  },
  {
   "cell_type": "code",
   "execution_count": 193,
   "metadata": {},
   "outputs": [
    {
     "data": {
      "text/plain": [
       "True"
      ]
     },
     "execution_count": 193,
     "metadata": {},
     "output_type": "execute_result"
    }
   ],
   "source": [
    "powerlist([1]) == [[], [1]]"
   ]
  },
  {
   "cell_type": "code",
   "execution_count": 194,
   "metadata": {},
   "outputs": [
    {
     "data": {
      "text/plain": [
       "True"
      ]
     },
     "execution_count": 194,
     "metadata": {},
     "output_type": "execute_result"
    }
   ],
   "source": [
    "powerlist([\"Hello\", \"World!\"]) == [[], ['Hello'], ['World!'], ['Hello', 'World!']]"
   ]
  },
  {
   "cell_type": "code",
   "execution_count": null,
   "metadata": {
    "deletable": false,
    "editable": false,
    "nbgrader": {
     "cell_type": "code",
     "checksum": "341020562793671bac17d58bcad252a6",
     "grade": true,
     "grade_id": "cell-93085be411c2469b",
     "locked": true,
     "points": 2,
     "schema_version": 3,
     "solution": false
    }
   },
   "outputs": [],
   "source": [
    "# Hidden test cell"
   ]
  },
  {
   "cell_type": "code",
   "execution_count": null,
   "metadata": {
    "deletable": false,
    "editable": false,
    "nbgrader": {
     "cell_type": "code",
     "checksum": "db2182b2473b05de9344cb6ac4dd5258",
     "grade": true,
     "grade_id": "cell-818107fb226c53d9",
     "locked": true,
     "points": 1,
     "schema_version": 3,
     "solution": false
    }
   },
   "outputs": [],
   "source": [
    "# Hidden Test Case"
   ]
  },
  {
   "cell_type": "code",
   "execution_count": null,
   "metadata": {
    "deletable": false,
    "editable": false,
    "nbgrader": {
     "cell_type": "code",
     "checksum": "686073484cb0a9c804db53d6251ed224",
     "grade": true,
     "grade_id": "cell-ad41c0cc9b75e975",
     "locked": true,
     "points": 1,
     "schema_version": 3,
     "solution": false
    }
   },
   "outputs": [],
   "source": [
    "# Hidden Test Case"
   ]
  }
 ],
 "metadata": {
  "kernelspec": {
   "display_name": "Python 3",
   "language": "python",
   "name": "python3"
  }
 },
 "nbformat": 4,
 "nbformat_minor": 2
}
