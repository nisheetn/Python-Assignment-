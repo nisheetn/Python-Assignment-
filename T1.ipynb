{
 "cells": [
  {
   "cell_type": "markdown",
   "metadata": {},
   "source": [
    "# COMPSCI 1MD3 - Fall 2020\n",
    "## Instructor : Nicholas Moore\n",
    "\n",
    "## Maximum Grade: 17/13\n",
    "\n",
    "### Special Instructions - Please read\n",
    "\n",
    "* DO NOT RENAME THE ASSIGNMENT FILE (otherwise it might not be submitted or graded).\n",
    "* DO NOT USE FUNCTION NAMES OTHER THAN THOSE PROVIDED IN THE QUESTION (or you will get zero for the question).\n",
    "* DO NOT CHANGE THE THE NUMBER OF FUNCTION ARGUMENTS, USE THEM AS PROVIDED.\n",
    "* Validate your notebook before submitting\n",
    "* You must Submit the assignment from the assignments tab before the deadline.  Late submissions will not be accepted.  The only proof that your work was completed before the deadline is an on-time submission.\n",
    "* If you are having trouble with the server not responding, you are probably trying to execute and infinite loop.  To remedy this:\n",
    "    * click the stop button on the tool bar (proportional response), or\n",
    "    * go to \\\"Control Panel\\\" >> \\\"Stop My Server\\\" >> \\\"Start My Server\\\" (nuclear option).  Note that you will lose any unsaved work with this one.\n",
    " \n",
    "This test became available at 9:00am EST, Saturday October 3rd, and must be submitted by 9:00am EST, October 4th. \n",
    "\n",
    "THERE IS NO GRACE PERIOD FOR TEST SUBMISSIONS.  YOU MUST SUBMIT BY THIS TIME OR YOU WILL GET ZERO.\n",
    "\n",
    "This is an open-book test, which means you are permitted to use reference material, such as wikipedia and the python documentation at python.org\n",
    "\n",
    "This is NOT a collaborative assessment.  These tests will be evaluated for plagiarism, and offenders will certainly be prosecuted.  Remember: never share your password, and never share your code! People who share their code are just as guilty of plagiarism as those who use it. \n",
    "\n",
    "If you have questions for myself or the TAs, please submit them to the Piazza.  Please do not share your solutions on Piazza (or any other website).  \n",
    "\n",
    "Good luck!  "
   ]
  },
  {
   "cell_type": "markdown",
   "metadata": {},
   "source": [
    "## Prime Numbers (4 points)\n",
    "A prime number is an integer that is divisible only by itself, and the number one. One is not a prime number. Some  examples of prime numbers are 2,3,5, and 7. Define a function hasPrimes() that, given two integers, `start` and `stop`, checks to see if there are any given prime numbers in the range:\n",
    "$$[start, stop]$$ \n",
    "\n",
    "The function should return `True` if there are prime numbers in this range, and `False` if not. \n",
    "\n",
    "For example, between the numbers 7 and 14, there are 2 prime numbers: 7 and 13, so hasPrimes() would return <b>True<b> ."
   ]
  },
  {
   "cell_type": "code",
   "execution_count": 96,
   "metadata": {
    "deletable": false,
    "nbgrader": {
     "cell_type": "code",
     "checksum": "e8f5373d8cf092d6d0bf5040d5fd5087",
     "grade": false,
     "grade_id": "cell-0908f47e2f9da37c",
     "locked": false,
     "schema_version": 3,
     "solution": true,
     "task": false
    }
   },
   "outputs": [],
   "source": [
    "def hasPrimes(start, stop):\n",
    "    # YOUR CODE HERE\n",
    "    #The function should return True if there are prime numbers in this range(start to stop), and False if not.\n",
    "    flag=0\n",
    "    for any_element in range(start,stop+1):\n",
    "        if any_element>1:\n",
    "            for divisor in range(2,any_element):\n",
    "                if(any_element%divisor)==0:\n",
    "                    pass \n",
    "                  \n",
    "                else:\n",
    "                    flag=1\n",
    "    \n",
    "    if flag==0 :\n",
    "        return False \n",
    "    else:\n",
    "        return True \n",
    "    \n",
    "    pass"
   ]
  },
  {
   "cell_type": "code",
   "execution_count": 97,
   "metadata": {},
   "outputs": [
    {
     "name": "stdout",
     "output_type": "stream",
     "text": [
      "Test 1 : True\n",
      "Test 2 : False\n",
      "Test 3 : True\n"
     ]
    }
   ],
   "source": [
    "print(\"Test 1 : \" + str(hasPrimes(1,10)))\n",
    "print(\"Test 2 : \" + str(not hasPrimes(20,22)))\n",
    "print(\"Test 3 : \" + str(hasPrimes(9302,10034)))"
   ]
  },
  {
   "cell_type": "code",
   "execution_count": null,
   "metadata": {
    "deletable": false,
    "editable": false,
    "nbgrader": {
     "cell_type": "code",
     "checksum": "01e156572785d28f585ac98b2309d611",
     "grade": true,
     "grade_id": "cell-1495b35b3afd4932",
     "locked": true,
     "points": 1,
     "schema_version": 3,
     "solution": false,
     "task": false
    }
   },
   "outputs": [],
   "source": []
  },
  {
   "cell_type": "code",
   "execution_count": null,
   "metadata": {
    "deletable": false,
    "editable": false,
    "nbgrader": {
     "cell_type": "code",
     "checksum": "cfe28ef690675c42ab1760a10afd7ebf",
     "grade": true,
     "grade_id": "cell-dc0085c4b619ae81",
     "locked": true,
     "points": 1,
     "schema_version": 3,
     "solution": false,
     "task": false
    }
   },
   "outputs": [],
   "source": []
  },
  {
   "cell_type": "code",
   "execution_count": null,
   "metadata": {
    "deletable": false,
    "editable": false,
    "nbgrader": {
     "cell_type": "code",
     "checksum": "ee0bdfba5480ac99e6956dce8ee52788",
     "grade": true,
     "grade_id": "cell-046336296eb6791f",
     "locked": true,
     "points": 1,
     "schema_version": 3,
     "solution": false,
     "task": false
    }
   },
   "outputs": [],
   "source": []
  },
  {
   "cell_type": "code",
   "execution_count": null,
   "metadata": {
    "deletable": false,
    "editable": false,
    "nbgrader": {
     "cell_type": "code",
     "checksum": "738ea6edfb100b505c9a46cbbef127d3",
     "grade": true,
     "grade_id": "cell-56070c082d2bc603",
     "locked": true,
     "points": 1,
     "schema_version": 3,
     "solution": false,
     "task": false
    }
   },
   "outputs": [],
   "source": []
  },
  {
   "cell_type": "markdown",
   "metadata": {},
   "source": [
    "## Buying Stock (4 points)\n",
    "You are a day trader and you want to buy stocks in the S&P 500. Being a genius inventor, you have built a time machine that can predict stock prices, for an arbitrarily large number of days in the future, but it can only predict one stock price per day. \n",
    "\n",
    "Write a function, `maxStockProfit`, which, given a tuple containing a sequence of stock prices, returns the largest amount of profit it is possible to make.  Assume that you are calculating the amount of profit made on one share.  (The prices listed by the time machine are prices per share).  Despite having a time machine, we can not sell a share before it has been purchased. "
   ]
  },
  {
   "cell_type": "code",
   "execution_count": 113,
   "metadata": {
    "deletable": false,
    "nbgrader": {
     "cell_type": "code",
     "checksum": "4caf2656984e34aac29660f97ebbc8bf",
     "grade": false,
     "grade_id": "cell-329f5a2b2f4fb618",
     "locked": false,
     "schema_version": 3,
     "solution": true,
     "task": false
    }
   },
   "outputs": [],
   "source": [
    "#Write a function, maxStockProfit, which, given a tuple containing a sequence of stock prices, returns the largest amount of profit it is possible to make. Assume that you are calculating the amount of profit made on one share. (The prices listed by the time machine are prices per share). Despite having a time machine, we can not sell a share before it has been purchased.\n",
    "\n",
    "\n",
    "def maxStockProfit(prices):\n",
    "    # YOUR CODE HERE\n",
    "    total_profit=0\n",
    "    least_stock=prices[0]\n",
    "    \n",
    "    predictions=len(prices)\n",
    "    \n",
    "    #intially profit would be zero \n",
    "    if predictions==0 :\n",
    "        return 0 \n",
    "    if predictions==1:\n",
    "        return 0\n",
    "    \n",
    "    for p in range(1,predictions):\n",
    "        \n",
    "        #calculating the amount of profit made on one share.\n",
    "                 \n",
    "            if prices[p]<least_stock:\n",
    "                \n",
    "                least_stock=prices[p]\n",
    "            \n",
    "            else:\n",
    "                least_stock\n",
    "                   \n",
    "            total_profit=max(total_profit,prices[p]-least_stock)\n",
    "            \n",
    "    return total_profit\n",
    "    pass"
   ]
  },
  {
   "cell_type": "code",
   "execution_count": 114,
   "metadata": {},
   "outputs": [
    {
     "name": "stdout",
     "output_type": "stream",
     "text": [
      "Test 1 : True\n",
      "Test 2 : True\n",
      "Test 3 : True\n"
     ]
    }
   ],
   "source": [
    "print(\"Test 1 : \" + str(maxStockProfit((1,2,5,7,2,0)) == 6))\n",
    "prices = (772, 640, 432, 918, 49, 645, 899, 314, 293, 41, 610,  682, 377, 299, 183, 854, 184, 837, 218, 909)\n",
    "print(\"Test 2 : \" + str(maxStockProfit(prices) == 868))\n",
    "prices = (550, 479, 290, 281, 70)\n",
    "print(\"Test 3 : \" + str(maxStockProfit(prices) == 0))"
   ]
  },
  {
   "cell_type": "code",
   "execution_count": null,
   "metadata": {
    "deletable": false,
    "editable": false,
    "nbgrader": {
     "cell_type": "code",
     "checksum": "f2368e98c3b4fb9967374703d9799e8b",
     "grade": true,
     "grade_id": "cell-dc5f4a40190e79f7",
     "locked": true,
     "points": 1,
     "schema_version": 3,
     "solution": false,
     "task": false
    }
   },
   "outputs": [],
   "source": []
  },
  {
   "cell_type": "code",
   "execution_count": null,
   "metadata": {
    "deletable": false,
    "editable": false,
    "nbgrader": {
     "cell_type": "code",
     "checksum": "d33c00c67dcef2bfb7df47635e358fb0",
     "grade": true,
     "grade_id": "cell-f3504ae31ad59b8c",
     "locked": true,
     "points": 1,
     "schema_version": 3,
     "solution": false,
     "task": false
    }
   },
   "outputs": [],
   "source": []
  },
  {
   "cell_type": "code",
   "execution_count": null,
   "metadata": {
    "deletable": false,
    "editable": false,
    "nbgrader": {
     "cell_type": "code",
     "checksum": "a941b8183bf98983f7bc00d0ae7971f5",
     "grade": true,
     "grade_id": "cell-e30d9b2af8106f45",
     "locked": true,
     "points": 1,
     "schema_version": 3,
     "solution": false,
     "task": false
    }
   },
   "outputs": [],
   "source": []
  },
  {
   "cell_type": "code",
   "execution_count": null,
   "metadata": {
    "deletable": false,
    "editable": false,
    "nbgrader": {
     "cell_type": "code",
     "checksum": "100f5e4b99784499628e5a6ad92cd359",
     "grade": true,
     "grade_id": "cell-9eec4cb01697cd84",
     "locked": true,
     "points": 1,
     "schema_version": 3,
     "solution": false,
     "task": false
    }
   },
   "outputs": [],
   "source": []
  },
  {
   "cell_type": "code",
   "execution_count": null,
   "metadata": {},
   "outputs": [],
   "source": []
  },
  {
   "cell_type": "markdown",
   "metadata": {},
   "source": [
    "## Stocks Part 2 (2 points)\n",
    "\n",
    "Now write a similar algorithm that, instead of telling you how much profit you will make, tells you which days you should buy and sell on.  Return these as a tuple.  If no profit can be made, return false.  "
   ]
  },
  {
   "cell_type": "code",
   "execution_count": 60,
   "metadata": {
    "deletable": false,
    "nbgrader": {
     "cell_type": "code",
     "checksum": "e6f2f02826465e21c6125243954d5734",
     "grade": false,
     "grade_id": "cell-61d57ba64f5e8507",
     "locked": false,
     "schema_version": 3,
     "solution": true,
     "task": false
    }
   },
   "outputs": [],
   "source": [
    "def maxStockProfit2(prices):\n",
    "    # YOUR CODE HERE\n",
    "    day_sell=max(prices)\n",
    "    \n",
    "    k=(prices.index(max(prices)))\n",
    "    return k \n",
    "    \n",
    "\n",
    "    \n",
    "    pass"
   ]
  },
  {
   "cell_type": "code",
   "execution_count": 61,
   "metadata": {},
   "outputs": [
    {
     "name": "stdout",
     "output_type": "stream",
     "text": [
      "Test 1 : False\n",
      "Test 2 : False\n",
      "Test 3 : True\n"
     ]
    }
   ],
   "source": [
    "print(\"Test 1 : \" + str(maxStockProfit2((1,2,5,7,2,0)) == (0,3)))\n",
    "prices = (772, 640, 432, 918, 49, 645, 899, 314, 293, 41, 610,  682, 377, 299, 183, 854, 184, 837, 218, 909)\n",
    "print(\"Test 2 : \" + str(maxStockProfit2(prices) == (9,19)))\n",
    "prices = (550, 479, 290, 281, 70)\n",
    "print(\"Test 3 : \" + str(maxStockProfit2(prices) == False))"
   ]
  },
  {
   "cell_type": "code",
   "execution_count": null,
   "metadata": {
    "deletable": false,
    "editable": false,
    "nbgrader": {
     "cell_type": "code",
     "checksum": "ca5823c45dc00f9c16147c6a5ad0a078",
     "grade": true,
     "grade_id": "cell-8b6ee477af4923f3",
     "locked": true,
     "points": 1,
     "schema_version": 3,
     "solution": false,
     "task": false
    }
   },
   "outputs": [],
   "source": []
  },
  {
   "cell_type": "code",
   "execution_count": null,
   "metadata": {
    "deletable": false,
    "editable": false,
    "nbgrader": {
     "cell_type": "code",
     "checksum": "863ad396e34257e3cbcc69bce882f605",
     "grade": true,
     "grade_id": "cell-e9585cc9dec87b37",
     "locked": true,
     "points": 1,
     "schema_version": 3,
     "solution": false,
     "task": false
    }
   },
   "outputs": [],
   "source": []
  },
  {
   "cell_type": "code",
   "execution_count": null,
   "metadata": {},
   "outputs": [],
   "source": [
    "\n"
   ]
  },
  {
   "cell_type": "code",
   "execution_count": null,
   "metadata": {},
   "outputs": [],
   "source": [
    "\n"
   ]
  },
  {
   "cell_type": "code",
   "execution_count": null,
   "metadata": {},
   "outputs": [],
   "source": []
  },
  {
   "cell_type": "code",
   "execution_count": null,
   "metadata": {},
   "outputs": [],
   "source": [
    "\n"
   ]
  },
  {
   "cell_type": "code",
   "execution_count": null,
   "metadata": {},
   "outputs": [],
   "source": [
    "\n"
   ]
  },
  {
   "cell_type": "markdown",
   "metadata": {},
   "source": [
    "### Artemis and the Vowelarians (3 points)\n",
    "\n",
    "Artemis is a linguistics student aiming to study the ancient language of the Vowelarians, members of an ancient society. The Vowelarians tend to use many vowels ( \"a\", \"e\", \"i\", \"o\", \"u\") in their texts, which lack spaces. Artemis wants to find the substring of length k, that has the most number of vowels for a given line of text. He has defined a function `vowelarians(s, k)` , which takes a string of text `s` which consists of all lowercase letters, and a substring length `k`. However, Artemis is no expert programmer like you are, and requires your help to debug his function, which is written below. While his function compiles, it does not have the expected results.\n",
    "\n",
    "NOTE: This question is all or nothing! If you find all the errors and fix them you get the points! Otherwise you get nothing! "
   ]
  },
  {
   "cell_type": "code",
   "execution_count": 98,
   "metadata": {
    "deletable": false,
    "nbgrader": {
     "cell_type": "code",
     "checksum": "67cb64d85111ec699a72d1af4ca3055b",
     "grade": false,
     "grade_id": "cell-0eaea045ba3f9447",
     "locked": false,
     "schema_version": 3,
     "solution": true,
     "task": false
    }
   },
   "outputs": [],
   "source": [
    "def vowelarians(s, k):\n",
    "    max_vowels = 0\n",
    "    for i in range(0, len(s) - k + 1,2):\n",
    "        j = 0\n",
    "    \n",
    "        vowels = 0\n",
    "        substring = s[i:i+k]\n",
    "        while j < len(substring):\n",
    "            if substring[j] in \"aeiou\":\n",
    "                vowels +=1\n",
    "            j+=1\n",
    "        max_vowels = max(max_vowels, vowels)\n",
    "    return max_vowels"
   ]
  },
  {
   "cell_type": "code",
   "execution_count": 99,
   "metadata": {},
   "outputs": [
    {
     "data": {
      "text/plain": [
       "True"
      ]
     },
     "execution_count": 99,
     "metadata": {},
     "output_type": "execute_result"
    }
   ],
   "source": [
    "x = \"aeailoui uuriuoaoa mooooeeeoss auauaeuuioio\"\n",
    "\n",
    "vowelarians(x, 5) == 5\n",
    "vowelarians(x, 15) == 13"
   ]
  },
  {
   "cell_type": "code",
   "execution_count": null,
   "metadata": {
    "deletable": false,
    "editable": false,
    "nbgrader": {
     "cell_type": "code",
     "checksum": "4d0be1f5044d79101361719f98a2c848",
     "grade": true,
     "grade_id": "cell-95c75acf7e1e247a",
     "locked": true,
     "points": 1,
     "schema_version": 3,
     "solution": false,
     "task": false
    }
   },
   "outputs": [],
   "source": []
  },
  {
   "cell_type": "code",
   "execution_count": null,
   "metadata": {
    "deletable": false,
    "editable": false,
    "nbgrader": {
     "cell_type": "code",
     "checksum": "2da0995c4dd0c45c437cac4ad93b115d",
     "grade": true,
     "grade_id": "cell-90034bb94e670272",
     "locked": true,
     "points": 1,
     "schema_version": 3,
     "solution": false,
     "task": false
    }
   },
   "outputs": [],
   "source": []
  },
  {
   "cell_type": "code",
   "execution_count": null,
   "metadata": {
    "deletable": false,
    "editable": false,
    "nbgrader": {
     "cell_type": "code",
     "checksum": "9a4d62ebcf5040e1897d06a10a7c5d16",
     "grade": true,
     "grade_id": "cell-4ee5b1893f7114f4",
     "locked": true,
     "points": 1,
     "schema_version": 3,
     "solution": false,
     "task": false
    }
   },
   "outputs": [],
   "source": []
  },
  {
   "cell_type": "markdown",
   "metadata": {
    "deletable": false,
    "editable": false,
    "nbgrader": {
     "cell_type": "markdown",
     "checksum": "053b51868d33a4a49a961c464b8ad9c2",
     "grade": false,
     "grade_id": "cell-37e1b856a014029d",
     "locked": true,
     "schema_version": 3,
     "solution": false,
     "task": false
    }
   },
   "source": [
    "## Bonus Question: Caesar Cypher (4 pts)\n",
    "Back in the days of the Roman Empire, it was not uncommon for military communications to be intercepted, since they were largely carried around by dudes on horses.  As a result, the Romans developed a way of encoding their military communications, so that they could only be read by other Romans who knew how the message had been encoded.  \n",
    "\n",
    "The code was this: Take every letter of the latin alphabet in the message, and replace it with the letter that was three letters after it in the alphabet.  So, `A` became `D`, `B` became `E`, et cetera.  This is known as the `Caesar Cypher`, and it is one of the earliest forays humanity ever made into the fascinating science of cryptography. \n",
    "\n",
    "Write a python function, `caesarian(x)`, which, given a string `x`, encodes all characters in the classical latin alphabet (given below), using the Ceasar Cypher described above. \n",
    "\n",
    "The classical Latin alphabet:\n",
    "\n",
    "A \tB \tC \tD \tE \tF \tG \tH \tI \tK \tL \tM \tN \tO \tP \tQ \tR \tS \tT \tV \tX \tY \tZ\n",
    "\n",
    "- You do not need to encode characters that do not appear in the classical Latin alphabet, just leave them undeciphered. This includes but is not limited to:\n",
    "    - spaces\n",
    "    - punctuation\n",
    "    - Alphabetic characters not appearing above, such as the modern letter `J`, which didn't exist at the time.  \n",
    "- You may assume that Romans shouted everything (i.e., all communications are ENTIRELY IN UPPERCASE)"
   ]
  },
  {
   "cell_type": "code",
   "execution_count": 100,
   "metadata": {
    "deletable": false,
    "nbgrader": {
     "cell_type": "code",
     "checksum": "e67044b4cc98296e3279abf4c9dbd728",
     "grade": false,
     "grade_id": "cell-a0083ad0f78e5e83",
     "locked": false,
     "schema_version": 3,
     "solution": true,
     "task": false
    }
   },
   "outputs": [],
   "source": [
    "def caesarian(x):\n",
    "    \n",
    "    letters = \"A B C D E F G H I K L M N O P Q R S T V X Y Z\"\n",
    "    decp=\"\"\n",
    "    key=6\n",
    "    for i in x:\n",
    "        if i in letters:\n",
    "            old_post=letters.find(i)\n",
    "            new_post=(old_post+6)%46\n",
    "            decp+=letters[new_post]\n",
    "        else  :\n",
    "                decp+=i \n",
    "        \n",
    "    return decp\n",
    "\n",
    "    \n",
    "    # YOUR CODE HERE\n",
    "    #pass"
   ]
  },
  {
   "cell_type": "code",
   "execution_count": 101,
   "metadata": {},
   "outputs": [
    {
     "name": "stdout",
     "output_type": "stream",
     "text": [
      "True\n",
      "True\n",
      "True\n"
     ]
    }
   ],
   "source": [
    "a = \"TAKE CARE THAT YOU DON'T TREAT INHUMANITY AS IT TREATS HUMAN BEINGS\"\n",
    "b = \"AND WHY SHOULD WE FEEL ANGER AT THE WORLD? AS IF THE WORLD WOULD NOTICE!\"\n",
    "c = \"KINGSHIP: TO EARN A BAD REPUTATION BY GOOD DEEDS.\"\n",
    "\n",
    "a_cypher = \"YDNH FDVH YLDY BRU GRQ'Y YVHDY MQLUPDQMYB DX MY YVHDYX LUPDQ EHMQKX\"\n",
    "b_cypher = \"DQG WLB XLRUOG WH IHHO DQKHV DY YLH WRVOG? DX MI YLH WRVOG WRUOG QRYMFH!\"\n",
    "c_cypher = \"NMQKXLMS: YR HDVQ D EDG VHSUYDYMRQ EB KRRG GHHGX.\"\n",
    "\n",
    "print(caesarian(a) == a_cypher)\n",
    "print(caesarian(b) == b_cypher)\n",
    "print(caesarian(c) == c_cypher)"
   ]
  },
  {
   "cell_type": "code",
   "execution_count": null,
   "metadata": {
    "deletable": false,
    "editable": false,
    "nbgrader": {
     "cell_type": "code",
     "checksum": "398109767e50a4b519d2a587fae49d94",
     "grade": true,
     "grade_id": "cell-222472b192486400",
     "locked": true,
     "points": 1,
     "schema_version": 3,
     "solution": false,
     "task": false
    }
   },
   "outputs": [],
   "source": []
  },
  {
   "cell_type": "code",
   "execution_count": null,
   "metadata": {
    "deletable": false,
    "editable": false,
    "nbgrader": {
     "cell_type": "code",
     "checksum": "d01cd730992376afea4857fe96459e82",
     "grade": true,
     "grade_id": "cell-ce107975828a2441",
     "locked": true,
     "points": 1,
     "schema_version": 3,
     "solution": false,
     "task": false
    }
   },
   "outputs": [],
   "source": []
  },
  {
   "cell_type": "code",
   "execution_count": null,
   "metadata": {
    "deletable": false,
    "editable": false,
    "nbgrader": {
     "cell_type": "code",
     "checksum": "e991a717883764dc7fb98b69a6999dc0",
     "grade": true,
     "grade_id": "cell-ba99977ddf21df89",
     "locked": true,
     "points": 0,
     "schema_version": 3,
     "solution": false,
     "task": false
    }
   },
   "outputs": [],
   "source": []
  },
  {
   "cell_type": "code",
   "execution_count": null,
   "metadata": {
    "deletable": false,
    "editable": false,
    "nbgrader": {
     "cell_type": "code",
     "checksum": "fe039e017ce3d3e4ac7728db857b0d91",
     "grade": true,
     "grade_id": "cell-cf035360bfb11f09",
     "locked": true,
     "points": 0,
     "schema_version": 3,
     "solution": false,
     "task": false
    }
   },
   "outputs": [],
   "source": []
  },
  {
   "cell_type": "code",
   "execution_count": null,
   "metadata": {},
   "outputs": [],
   "source": [
    "\n"
   ]
  },
  {
   "cell_type": "code",
   "execution_count": null,
   "metadata": {},
   "outputs": [],
   "source": [
    "\n"
   ]
  },
  {
   "cell_type": "code",
   "execution_count": null,
   "metadata": {},
   "outputs": [],
   "source": []
  },
  {
   "cell_type": "code",
   "execution_count": null,
   "metadata": {},
   "outputs": [],
   "source": []
  },
  {
   "cell_type": "code",
   "execution_count": null,
   "metadata": {},
   "outputs": [],
   "source": []
  },
  {
   "cell_type": "code",
   "execution_count": null,
   "metadata": {},
   "outputs": [],
   "source": []
  },
  {
   "cell_type": "code",
   "execution_count": null,
   "metadata": {},
   "outputs": [],
   "source": []
  }
 ],
 "metadata": {
  "kernelspec": {
   "display_name": "Python 3",
   "language": "python",
   "name": "python3"
  },
  "language_info": {
   "codemirror_mode": {
    "name": "ipython",
    "version": 3
   },
   "file_extension": ".py",
   "mimetype": "text/x-python",
   "name": "python",
   "nbconvert_exporter": "python",
   "pygments_lexer": "ipython3",
   "version": "3.8.5"
  }
 },
 "nbformat": 4,
 "nbformat_minor": 4
}
