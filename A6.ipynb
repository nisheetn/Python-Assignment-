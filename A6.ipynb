{
 "cells": [
  {
   "cell_type": "markdown",
   "metadata": {
    "deletable": false,
    "editable": false,
    "nbgrader": {
     "cell_type": "markdown",
     "checksum": "ee89c898190e474956c018e117083400",
     "grade": false,
     "grade_id": "cell-8270991a73638fc0",
     "locked": true,
     "schema_version": 3,
     "solution": false
    }
   },
   "source": [
    "### Lab 5 Assigned Sunday November 1st, Due Sunday, November 8th @ 11:59 PM\n",
    "### Maximum grade: 20 / 16\n",
    "\n",
    "The purpose of this lab is to:\n",
    "* Practice implementing numerical methods\n",
    "* Save us from any future embarassment with aliens"
   ]
  },
  {
   "cell_type": "markdown",
   "metadata": {
    "deletable": false,
    "editable": false,
    "nbgrader": {
     "cell_type": "markdown",
     "checksum": "09a1eaf606f14aff5a846b8da9b787a2",
     "grade": false,
     "grade_id": "cell-71a0b5befc6ac718",
     "locked": true,
     "schema_version": 3,
     "solution": false
    }
   },
   "source": [
    "#### Question 1: Binary and Decimal Conversions (4 points)\n",
    "\n",
    "Write two functions, `dec2bin(x)` and `bin2dec(x)` that convert a positive integer from decimal to binary or binary to decimal respectively.  For `dec2bin`, the input `x` is an int, and the output should be a string.  For `bin2dec`, the input `x` is a string, and the output should be an int. \n",
    "\n",
    "The iterative approach is easiest.  If you are feeling adventurous, you could try to come up with a recursive solution.\n",
    "\n",
    "Note: you must write your code without using the bin() function."
   ]
  },
  {
   "cell_type": "code",
   "execution_count": 68,
   "metadata": {
    "deletable": false,
    "nbgrader": {
     "cell_type": "code",
     "checksum": "fcb3c1d4d598d2ddbf7bc33dd5108b2e",
     "grade": false,
     "grade_id": "cell-9b4bf2416a059320",
     "locked": false,
     "schema_version": 3,
     "solution": true
    }
   },
   "outputs": [],
   "source": [
    "# Your code here.\n",
    "def dec2bin(x):\n",
    "    ans=0 \n",
    "    counting=0\n",
    "    while x!=0 :\n",
    "        power=(10**counting)\n",
    "        r=x%2\n",
    "        \n",
    "        ans+= r*power\n",
    "        x//=2\n",
    "        counting+=1\n",
    "    return str(ans)\n",
    "    pass\n",
    "\n",
    "def bin2dec(x):\n",
    "    counter=0\n",
    "    newx=x[::-1]\n",
    "    length=len(x)\n",
    "    lengthx=list(range(0,length+1))\n",
    "    for sublength in range(0,length):\n",
    "\n",
    "        if newx[sublength] =='1':\n",
    "            counter+=2**sublength\n",
    "    return counter\n",
    "\n",
    "\n",
    "# YOUR CODE HERE\n",
    "    raise NotImplementedError()\n"
   ]
  },
  {
   "cell_type": "code",
   "execution_count": 69,
   "metadata": {},
   "outputs": [
    {
     "name": "stdout",
     "output_type": "stream",
     "text": [
      "Test Case 1 = True\n",
      "Test Case 2 = True\n",
      "Test Case 3 = True\n"
     ]
    }
   ],
   "source": [
    "print(\"Test Case 1 =\" , dec2bin(0) == '0')\n",
    "print(\"Test Case 2 =\" , dec2bin(15) == '1111')\n",
    "print(\"Test Case 3 =\" , dec2bin(999999999) == '111011100110101100100111111111')"
   ]
  },
  {
   "cell_type": "code",
   "execution_count": 70,
   "metadata": {
    "deletable": false,
    "editable": false,
    "nbgrader": {
     "cell_type": "code",
     "checksum": "465b7d8636b7a9b0cd7a2460d800838e",
     "grade": true,
     "grade_id": "cell-0854803adf6f43e4",
     "locked": true,
     "points": 1,
     "schema_version": 3,
     "solution": false
    }
   },
   "outputs": [],
   "source": [
    "# Hidden test cell"
   ]
  },
  {
   "cell_type": "code",
   "execution_count": 71,
   "metadata": {
    "deletable": false,
    "editable": false,
    "nbgrader": {
     "cell_type": "code",
     "checksum": "d5a46403739285ff0911e707274cc9b4",
     "grade": true,
     "grade_id": "cell-484f7f2393fb1955",
     "locked": true,
     "points": 1,
     "schema_version": 3,
     "solution": false
    }
   },
   "outputs": [],
   "source": [
    "# Hidden test cell"
   ]
  },
  {
   "cell_type": "code",
   "execution_count": 72,
   "metadata": {},
   "outputs": [
    {
     "name": "stdout",
     "output_type": "stream",
     "text": [
      "Test Case 4 = True\n",
      "Test Case 5 = True\n",
      "Test Case 5 = True\n"
     ]
    }
   ],
   "source": [
    "print(\"Test Case 4 =\", bin2dec('') == 0)\n",
    "print(\"Test Case 5 =\", bin2dec('10010101') == 149)\n",
    "print(\"Test Case 5 =\", bin2dec('0101010101100011011010011101011001010010110101') == 23471366444213)\n",
    "\n"
   ]
  },
  {
   "cell_type": "code",
   "execution_count": null,
   "metadata": {
    "deletable": false,
    "editable": false,
    "nbgrader": {
     "cell_type": "code",
     "checksum": "e924248168670af41be109bc49004a29",
     "grade": true,
     "grade_id": "cell-b01b933cc628100e",
     "locked": true,
     "points": 1,
     "schema_version": 3,
     "solution": false
    }
   },
   "outputs": [],
   "source": [
    "# Hidden test cell"
   ]
  },
  {
   "cell_type": "code",
   "execution_count": null,
   "metadata": {
    "deletable": false,
    "editable": false,
    "nbgrader": {
     "cell_type": "code",
     "checksum": "2fff145267b06a7e00534da860dd6e74",
     "grade": true,
     "grade_id": "cell-5ba5e7afa44a12c3",
     "locked": true,
     "points": 1,
     "schema_version": 3,
     "solution": false
    }
   },
   "outputs": [],
   "source": [
    "# Hidden test cell"
   ]
  },
  {
   "cell_type": "markdown",
   "metadata": {
    "deletable": false,
    "editable": false,
    "nbgrader": {
     "cell_type": "markdown",
     "checksum": "8217ed3b0cdd9a012c918baf5e830386",
     "grade": false,
     "grade_id": "cell-242c7365c30a27b9",
     "locked": true,
     "schema_version": 3,
     "solution": false
    }
   },
   "source": [
    "#### Question 2: Decimal/Hexadecimal Conversions (4 points)\n",
    "\n",
    "Write two functions: one that converts from hexadecimal (base 16) to decimal, `hex2dec`, and one that converts from decimal to hexadecimal, `dec2hex`. Output your hexadecimal values as a string; for instance, `31` in decimal would be the string \"H1F\" in hexadecimal. Your output is case sensitive.  "
   ]
  },
  {
   "cell_type": "code",
   "execution_count": 73,
   "metadata": {
    "deletable": false,
    "nbgrader": {
     "cell_type": "code",
     "checksum": "2b35ddc04c9ff84ebaad37888e7a6691",
     "grade": false,
     "grade_id": "cell-ffec72cc583c9c6c",
     "locked": false,
     "schema_version": 3,
     "solution": true
    }
   },
   "outputs": [],
   "source": [
    "# Write your answer here.\n",
    "def hex2dec(n):\n",
    "    def helper0(num0):\n",
    "        rate0=\"0123456789ABCDEF\"\n",
    "        return rate0.index(num0) \n",
    "    counti=0\n",
    "    mac= 1 \n",
    "    nn=n[::-1]\n",
    "    for num0 in nn: \n",
    "        counti+= helper0(num0) * mac\n",
    "        mac = mac *16\n",
    "    return counti\n",
    "    \n",
    "    pass\n",
    "\n",
    "def dec2hex(n):\n",
    "    def helper(num): \n",
    "        rate=\"ABCDEF\"\n",
    "        if num <0 or num > 15 : \n",
    "            return 0 \n",
    "        elif num>=0 and num <10:\n",
    "            return str(num) \n",
    "        else:\n",
    "            return rate[num-10]\n",
    "    value=\"\"\n",
    "    while n>0 :\n",
    "        value= helper(n%16)+value\n",
    "        n=n//16\n",
    "    return 'H'+value \n",
    "    pass\n",
    "    pass\n",
    "\n",
    "\n",
    "# YOUR CODE HERE\n",
    "    raise NotImplementedError()"
   ]
  },
  {
   "cell_type": "code",
   "execution_count": 74,
   "metadata": {},
   "outputs": [
    {
     "name": "stdout",
     "output_type": "stream",
     "text": [
      "Test Case 1 = True\n",
      "Test Case 2 = True\n",
      "Test Case 3 = True\n",
      "Test Case 4 = True\n"
     ]
    }
   ],
   "source": [
    "print(\"Test Case 1 =\", dec2hex(31) == \"H1F\")\n",
    "WASTE_OF_WATER = \"HDECAF\"\n",
    "print(\"Test Case 2 =\", dec2hex(912559) == WASTE_OF_WATER)\n",
    "print(\"Test Case 3 =\", hex2dec('2A')  == 42)\n",
    "DIVINE_NUMBER = 12648430\n",
    "print(\"Test Case 4 =\", hex2dec('C0FFEE') == DIVINE_NUMBER)"
   ]
  },
  {
   "cell_type": "code",
   "execution_count": 75,
   "metadata": {
    "deletable": false,
    "editable": false,
    "nbgrader": {
     "cell_type": "code",
     "checksum": "cabef06480ef0db18971f3f77bf96d25",
     "grade": true,
     "grade_id": "cell-31c9848c88d2fc07",
     "locked": true,
     "points": 1,
     "schema_version": 3,
     "solution": false
    }
   },
   "outputs": [],
   "source": [
    "# Hidden test cell"
   ]
  },
  {
   "cell_type": "code",
   "execution_count": 76,
   "metadata": {
    "deletable": false,
    "editable": false,
    "nbgrader": {
     "cell_type": "code",
     "checksum": "3ef6ca5300c2cb337f4153ed8a303fdf",
     "grade": true,
     "grade_id": "cell-048a535063da5366",
     "locked": true,
     "points": 1,
     "schema_version": 3,
     "solution": false
    }
   },
   "outputs": [],
   "source": [
    "# Hidden test cell"
   ]
  },
  {
   "cell_type": "code",
   "execution_count": 77,
   "metadata": {
    "deletable": false,
    "editable": false,
    "nbgrader": {
     "cell_type": "code",
     "checksum": "0a31d6c1c737ef431da58f8133c2a16f",
     "grade": true,
     "grade_id": "cell-9eb0a498ba76d567",
     "locked": true,
     "points": 1,
     "schema_version": 3,
     "solution": false
    }
   },
   "outputs": [],
   "source": [
    "# Hidden test cell"
   ]
  },
  {
   "cell_type": "code",
   "execution_count": 78,
   "metadata": {
    "deletable": false,
    "editable": false,
    "nbgrader": {
     "cell_type": "code",
     "checksum": "dd44839be6171c1e9466788092dbf6a6",
     "grade": true,
     "grade_id": "cell-74672c8fd795b3ce",
     "locked": true,
     "points": 1,
     "schema_version": 3,
     "solution": false
    }
   },
   "outputs": [],
   "source": [
    "# Hidden test cell"
   ]
  },
  {
   "cell_type": "markdown",
   "metadata": {},
   "source": [
    "#### Question 3: Decimal/Octal Conversions (4 points)\n",
    "\n",
    "Write two functions: one that converts from octal (base 8) to decimal, `oct2dec`, and one that converts from decimal to octal, `dec2oct`. Output your octal values as a string; for instance, `25` in decimal would be the string \"O31\" in octal. Your output is case sensitive.  "
   ]
  },
  {
   "cell_type": "code",
   "execution_count": 79,
   "metadata": {
    "deletable": false,
    "nbgrader": {
     "cell_type": "code",
     "checksum": "24cd82b0badb615895f59ebde2faeb82",
     "grade": false,
     "grade_id": "cell-671699a8cefdcd55",
     "locked": false,
     "schema_version": 3,
     "solution": true
    }
   },
   "outputs": [],
   "source": [
    "# your code here\n",
    "def oct2dec(n):\n",
    "    def helper0(num0):\n",
    "        rate0=\"01234567\"\n",
    "        return rate0.index(num0) \n",
    "    counti=0\n",
    "    mac= 1\n",
    "    y=str(n)\n",
    "    nn=y[::-1]\n",
    "    for num0 in nn: \n",
    "        counti+= helper0(num0) * mac\n",
    "        mac = mac *8\n",
    "    return counti\n",
    "    \n",
    "    pass        \n",
    "def dec2oct(n):\n",
    "    def helper(num): \n",
    "        rate=\"01234567\"\n",
    "        if num <0 or num > 8 : \n",
    "            return 0 \n",
    "        elif num>=0 and num <10:\n",
    "            return str(num) \n",
    "        else:\n",
    "            return rate[num-10]\n",
    "    value=\"\"\n",
    "    while n>0 :\n",
    "        value= helper(n%8)+value\n",
    "        n=n//8\n",
    "    return 'O'+str(value) \n",
    "    pass\n",
    "\n",
    "# YOUR CODE HERE\n",
    "    raise NotImplementedError()"
   ]
  },
  {
   "cell_type": "code",
   "execution_count": 80,
   "metadata": {},
   "outputs": [
    {
     "name": "stdout",
     "output_type": "stream",
     "text": [
      "Test 1 = True\n",
      "Test 2 = True\n",
      "Test 3 = True\n",
      "Test 4 = True\n"
     ]
    }
   ],
   "source": [
    "print(\"Test 1 =\", oct2dec(15253) == 6827)\n",
    "print(\"Test 2 =\", oct2dec(16) == 14)\n",
    "print(\"Test 3 =\", dec2oct(999) == \"O1747\")\n",
    "print(\"Test 4 =\", dec2oct(8) == \"O10\")"
   ]
  },
  {
   "cell_type": "code",
   "execution_count": 81,
   "metadata": {
    "deletable": false,
    "editable": false,
    "nbgrader": {
     "cell_type": "code",
     "checksum": "a5da27c3b4053ce75e2011f1cea96319",
     "grade": true,
     "grade_id": "cell-ab4901c48886df6a",
     "locked": true,
     "points": 1,
     "schema_version": 3,
     "solution": false
    }
   },
   "outputs": [],
   "source": [
    "# Hidden test cell"
   ]
  },
  {
   "cell_type": "code",
   "execution_count": 82,
   "metadata": {
    "deletable": false,
    "editable": false,
    "nbgrader": {
     "cell_type": "code",
     "checksum": "c20ef9fe59ade5abbbc4ec76c27da039",
     "grade": true,
     "grade_id": "cell-87aa53e63ec8b7b3",
     "locked": true,
     "points": 1,
     "schema_version": 3,
     "solution": false
    }
   },
   "outputs": [],
   "source": [
    "# Hidden test cell"
   ]
  },
  {
   "cell_type": "code",
   "execution_count": 83,
   "metadata": {
    "deletable": false,
    "editable": false,
    "nbgrader": {
     "cell_type": "code",
     "checksum": "9b9d94e974d41355571472038492474a",
     "grade": true,
     "grade_id": "cell-99025ad4de8a7fd9",
     "locked": true,
     "points": 1,
     "schema_version": 3,
     "solution": false
    }
   },
   "outputs": [],
   "source": [
    "# Hidden test cell"
   ]
  },
  {
   "cell_type": "code",
   "execution_count": 84,
   "metadata": {
    "deletable": false,
    "editable": false,
    "nbgrader": {
     "cell_type": "code",
     "checksum": "064886692e3ef2e0cdcae46b303d89ef",
     "grade": true,
     "grade_id": "cell-868466263fb6768f",
     "locked": true,
     "points": 1,
     "schema_version": 3,
     "solution": false
    }
   },
   "outputs": [],
   "source": [
    "# Hidden test cell"
   ]
  },
  {
   "cell_type": "markdown",
   "metadata": {
    "deletable": false,
    "editable": false,
    "nbgrader": {
     "cell_type": "markdown",
     "checksum": "b4c79064071707dec7cb096c29d5b2b2",
     "grade": false,
     "grade_id": "cell-e61fa62ec99eec01",
     "locked": true,
     "schema_version": 3,
     "solution": false
    }
   },
   "source": [
    "#### Question 4 : Alien Palindromes (4 points)\n",
    "\n",
    "It's an exciting time to be alive. Aliens have made first contact with humans--or so they thought. Unfortunately, their first encounter with our species was with \"Starman\", the most recent endeavour in Elon Musk's desperate attempt to return home to Mars. Needless to say, they failed all attempts at communication with the inanimate spacesuit. Naturally, Ol' Musky was quite disappointed.\n",
    "\n",
    "Top scientists have hypothesized that our failure to communicate with the aliens was because, well, they simply had too many fingers. On earth, we use a base 10 number system because humans have, on average, 10 fingers. In order to display our intelligence in any future encounters with extraterrestrial life, we want to show them that we respect however many fingers they have, and the number system they use as a consequence.\n",
    "\n",
    "Your task is to write a program that finds numbers that would be considered 'interesting' in both of our number systems--namely, palindromes. For instance, 1991 is 7C7 in hexadecimal, and both numbers are palindromes. Of course, we don't know how many fingers the aliens will have, but Elon assures us that it will be no more than 36. This is convenient because we can just use `0123456789ABCDEFGHIJKLMNOPQRSTUVWXYZ` to represent our numbers.\n",
    "\n",
    "Write a function, `alien(b, N)` that finds all numbers up to N that are palindromes in both base 10 and base b. Exclude any one digit numbers in either base--obviously, 1 is 1 in both decimal and any other number system. Providing the aliens with such trivial solutions will most likely anger them, and result in the complete annihilation of humanity.\n",
    "\n",
    "Your function should return all palindromic numbers in both decimal and the alien system as a list of tuples: [ (decimal1, alien1), (decimal2, alien2)... etc] in increasing order."
   ]
  },
  {
   "cell_type": "code",
   "execution_count": 85,
   "metadata": {
    "deletable": false,
    "nbgrader": {
     "cell_type": "code",
     "checksum": "e1c1e2dac91c16eb784962df7eb9bb9e",
     "grade": false,
     "grade_id": "cell-77063b4697eac250",
     "locked": false,
     "schema_version": 3,
     "solution": true
    }
   },
   "outputs": [],
   "source": [
    "# Write your answer here.\n",
    "# def alien(b,N): \n",
    "#     def helper(num): \n",
    "#         rate=\"0123456789ABCDEFGHIJKLMNOPQRSTUVWXYZ\"\n",
    "#         if num <0 or num > b : \n",
    "#             return 0 \n",
    "#         elif num>=0 and num <10:\n",
    "#             return str(num) \n",
    "#         else:\n",
    "#             return rate[num-10]\n",
    "#     value=\"\"\n",
    "#     while N>0 :\n",
    "#         value= helper(N%b)+value\n",
    "#         N=N//b\n",
    "#     return value\n",
    "#     if str(value)==str(value)[::-1] and str(helper(N))==str(helper(N))[::-1]:\n",
    "#         return (tuple(value,N))\n",
    "#     else:\n",
    "#         pass \n",
    "def alien(b,N): \n",
    "    \n",
    "    def helper(number): \n",
    "        rate=\"0123456789ABCDEFGHIJKLMNOPQRSTUVWXYZ\"\n",
    "        rate=rate[:b]   \n",
    "       \n",
    "        value=\"\"\n",
    "        if number==0 : \n",
    "            return str(0)\n",
    "        while number!=0:\n",
    "            \n",
    "           \n",
    "            value= rate[number%b]+value\n",
    "            \n",
    "            number=number//b    \n",
    "        return(value[::-1])\n",
    "        \n",
    "    x=[]\n",
    "    \n",
    "    \n",
    "    for i in range(0,N+1):\n",
    "        if str(i)==str(i)[::-1] and str(helper(i))==str(helper(i))[::-1] and len(str(i))>1 and len(helper(i))>1 : \n",
    "           \n",
    "        \n",
    "            x.append((i,str(helper(i))))\n",
    "     \n",
    "   \n",
    "    return x \n",
    "    \n",
    "\n",
    "# YOUR CODE HERE\n",
    "    raise NotImplementedError()"
   ]
  },
  {
   "cell_type": "code",
   "execution_count": 86,
   "metadata": {},
   "outputs": [
    {
     "name": "stdout",
     "output_type": "stream",
     "text": [
      "Test 1 = True\n",
      "Test 2 = True\n",
      "Test 3 = True\n"
     ]
    }
   ],
   "source": [
    "print(\"Test 1 =\", alien(16, 1000) == [(353, '161'), (626, '272'), (787, '313'), (979, '3D3')])\n",
    "print(\"Test 2 =\", alien(7, 1000) == [(121, '232'), (171, '333'), (242, '464'), (292, '565')])\n",
    "print(\"Test 3 =\", alien(29, 100000) == [(929, '131'), (1771, '232'), (19191, 'MNM')])"
   ]
  },
  {
   "cell_type": "code",
   "execution_count": 87,
   "metadata": {
    "deletable": false,
    "editable": false,
    "nbgrader": {
     "cell_type": "code",
     "checksum": "0c5ac5c14d1fe9971e892a681295e97d",
     "grade": true,
     "grade_id": "cell-e58bfa8edb7ad7d4",
     "locked": true,
     "points": 1,
     "schema_version": 3,
     "solution": false
    }
   },
   "outputs": [],
   "source": [
    "# Hidden test cell"
   ]
  },
  {
   "cell_type": "code",
   "execution_count": 88,
   "metadata": {
    "deletable": false,
    "editable": false,
    "nbgrader": {
     "cell_type": "code",
     "checksum": "4f5ab512941f291c3ff7eaaaaa36a76b",
     "grade": true,
     "grade_id": "cell-7a3553c87274e988",
     "locked": true,
     "points": 1,
     "schema_version": 3,
     "solution": false
    }
   },
   "outputs": [],
   "source": [
    "# Hidden test cell"
   ]
  },
  {
   "cell_type": "code",
   "execution_count": 89,
   "metadata": {
    "deletable": false,
    "editable": false,
    "nbgrader": {
     "cell_type": "code",
     "checksum": "b9d9955965ccdfe9f3f5d05ba636bdce",
     "grade": true,
     "grade_id": "cell-afabc9a5ca6248b4",
     "locked": true,
     "points": 1,
     "schema_version": 3,
     "solution": false
    }
   },
   "outputs": [],
   "source": [
    "# Hidden test cell"
   ]
  },
  {
   "cell_type": "code",
   "execution_count": 90,
   "metadata": {
    "deletable": false,
    "editable": false,
    "nbgrader": {
     "cell_type": "code",
     "checksum": "b6160f75d2be5958284ad1c1e7bbbb5e",
     "grade": true,
     "grade_id": "cell-b06a6625135faf48",
     "locked": true,
     "points": 1,
     "schema_version": 3,
     "solution": false
    }
   },
   "outputs": [],
   "source": [
    "# Hidden test cell"
   ]
  },
  {
   "cell_type": "markdown",
   "metadata": {},
   "source": [
    "#### Bonus Question (Gray Codes) [4 points]:\n",
    "\n",
    "Consider following Python function for enumerating all binary numbers with a given width. For example, as `0`, `1` are the binary numbers with one digit, those with two digits are formed by prepending `0` to those numbers, `00`, `01`, and the prepending `1` to those numbers `10`, `11`, resulting in `00`, `01`, `10`, `11`. Those with three digits are formed by prepending `0` again, `000`, `001`, `010`, `011`, and then prepending `1` as well, `100`, `101`, `110`, `111`:"
   ]
  },
  {
   "cell_type": "code",
   "execution_count": 91,
   "metadata": {},
   "outputs": [],
   "source": [
    "def binaryNumbers(width):\n",
    "    return [''] if width == 0 else \\\n",
    "           ['0' + x for x in binaryNumbers(width - 1)] + \\\n",
    "           ['1' + x for x in binaryNumbers(width - 1)]"
   ]
  },
  {
   "cell_type": "markdown",
   "metadata": {},
   "source": [
    "<div><span style=\"float:left\"><table style=\"width:8em\">\n",
    "<caption>Binary numbers</caption>\n",
    "<tbody><tr style=\"background:#ccc;\">\n",
    "<th><small>2-bit</small></th>\n",
    "<th><small>4-bit</small></th>\n",
    "</tr>\n",
    "<tr>\n",
    "<td style=\"font-size:small;\">00<br>\n",
    "01<br>\n",
    "10<br>\n",
    "11<br>\n",
    "<br></td>\n",
    "<td rowspan=\"3\" style=\"font-size:small;\">0000<br>\n",
    "0001<br>\n",
    "0010<br>\n",
    "0011<br>\n",
    "0100<br>\n",
    "0101<br>\n",
    "0110<br>\n",
    "0111<br>\n",
    "1000<br>\n",
    "1001<br>\n",
    "1010<br>\n",
    "1011<br>\n",
    "1100<br>\n",
    "1101<br>\n",
    "1110<br>\n",
    "1111</td>\n",
    "</tr>\n",
    "<tr style=\"background:#ccc;\">\n",
    "<th><small>3-bit</small></th>\n",
    "</tr>\n",
    "<tr>\n",
    "<td style=\"font-size:small;\">000<br>\n",
    "001<br>\n",
    "010<br>\n",
    "011<br>\n",
    "100<br>\n",
    "101<br>\n",
    "110<br>\n",
    "111<br></td>\n",
    "</tr>\n",
    "</tbody></table></span></div>\n",
    "\n",
    "<div><span style=\"float:right\"><table style=\"width:8em\">\n",
    "<caption>Gray code</caption>\n",
    "<tbody><tr style=\"background:#ccc;\">\n",
    "<th><small>2-bit</small></th>\n",
    "<th><small>4-bit</small></th>\n",
    "</tr>\n",
    "<tr>\n",
    "<td style=\"font-size:small;\">00<br>\n",
    "01<br>\n",
    "11<br>\n",
    "10<br>\n",
    "<br></td>\n",
    "<td rowspan=\"3\" style=\"font-size:small;\">0000<br>\n",
    "0001<br>\n",
    "0011<br>\n",
    "0010<br>\n",
    "0110<br>\n",
    "0111<br>\n",
    "0101<br>\n",
    "0100<br>\n",
    "1100<br>\n",
    "1101<br>\n",
    "1111<br>\n",
    "1110<br>\n",
    "1010<br>\n",
    "1011<br>\n",
    "1001<br>\n",
    "1000</td>\n",
    "</tr>\n",
    "<tr style=\"background:#ccc;\">\n",
    "<th><small>3-bit</small></th>\n",
    "</tr>\n",
    "<tr>\n",
    "<td style=\"font-size:small;\">000<br>\n",
    "001<br>\n",
    "011<br>\n",
    "010<br>\n",
    "110<br>\n",
    "111<br>\n",
    "101<br>\n",
    "100<br></td>\n",
    "</tr>\n",
    "</tbody></table></span></div>\n",
    "<div style=\"border:3em solid white\"> The Gray code is a binary code that has the property that any two consecutive numbers differ only by one bit. The Gray code has several applications, for example in digital TV transmissions. It is constructed similarly to binary numbers, but with reversal when prepending `1`: for example, given `0`, `1`, the Gray code is formed by prepending `0` to those numbers, `00`, `01`, and then prepending `1` after reversing those numbers, `11`, `10`, resulting in `00`, `01`, `11`, `10`. The Gray code with three digits is formed by prepending `0` again, `000`, `001`, `011`, `010`, and the prepending `1` after reversing the numbers, `110`, `111`, `101`, `100`. Write a Python function `grayCode(width)` that returns a list with the Gray codes of the given width.</div>\n",
    "For this one, you'll have to design your own test cases! "
   ]
  },
  {
   "cell_type": "code",
   "execution_count": 92,
   "metadata": {
    "deletable": false,
    "nbgrader": {
     "cell_type": "code",
     "checksum": "6b257776de260bec1cac05bb8337d7ff",
     "grade": false,
     "grade_id": "cell-f10433d4db0559ed",
     "locked": false,
     "schema_version": 3,
     "solution": true
    }
   },
   "outputs": [],
   "source": [
    "# YOUR CODE HERE\n",
    "def grayCode(width):\n",
    "    return [''] if width == 0 else \\\n",
    "           ['0' + x for x in grayCode(width - 1)] + \\\n",
    "           ['1' + x for x in grayCode(width - 1)[::-1]]\n",
    "    raise NotImplementedError()"
   ]
  },
  {
   "cell_type": "code",
   "execution_count": null,
   "metadata": {
    "deletable": false,
    "editable": false,
    "nbgrader": {
     "cell_type": "code",
     "checksum": "eb48050f283eaec0f3a05c019a8241b6",
     "grade": true,
     "grade_id": "cell-e5d90ea2c09fc2f6",
     "locked": true,
     "points": 1,
     "schema_version": 3,
     "solution": false
    }
   },
   "outputs": [],
   "source": [
    "# Hidden test cell"
   ]
  },
  {
   "cell_type": "code",
   "execution_count": null,
   "metadata": {
    "deletable": false,
    "editable": false,
    "nbgrader": {
     "cell_type": "code",
     "checksum": "a1156a2da443bb8ead27e8e5bbb7e60c",
     "grade": true,
     "grade_id": "cell-68059897e88e8e3a",
     "locked": true,
     "points": 1,
     "schema_version": 3,
     "solution": false
    }
   },
   "outputs": [],
   "source": [
    "# Hidden test cell"
   ]
  },
  {
   "cell_type": "code",
   "execution_count": null,
   "metadata": {
    "deletable": false,
    "editable": false,
    "nbgrader": {
     "cell_type": "code",
     "checksum": "c549452fa17574cc8fe015e1d93bf091",
     "grade": true,
     "grade_id": "cell-9e5c29710e119d73",
     "locked": true,
     "points": 1,
     "schema_version": 3,
     "solution": false
    }
   },
   "outputs": [],
   "source": [
    "# Hidden test cell"
   ]
  },
  {
   "cell_type": "code",
   "execution_count": null,
   "metadata": {
    "deletable": false,
    "editable": false,
    "nbgrader": {
     "cell_type": "code",
     "checksum": "f9739ffd9fc5049976cef315f4ecc5ec",
     "grade": true,
     "grade_id": "cell-871e081460bd2d66",
     "locked": true,
     "points": 1,
     "schema_version": 3,
     "solution": false
    }
   },
   "outputs": [],
   "source": [
    "# Hidden test cell"
   ]
  }
 ],
 "metadata": {
  "kernelspec": {
   "display_name": "Python 3",
   "language": "python",
   "name": "python3"
  },
  "language_info": {
   "codemirror_mode": {
    "name": "ipython",
    "version": 3
   },
   "file_extension": ".py",
   "mimetype": "text/x-python",
   "name": "python",
   "nbconvert_exporter": "python",
   "pygments_lexer": "ipython3",
   "version": "3.8.5"
  }
 },
 "nbformat": 4,
 "nbformat_minor": 2
}
