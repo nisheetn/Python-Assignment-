{
 "cells": [
  {
   "cell_type": "markdown",
   "metadata": {},
   "source": [
    "### Assigned Sunday Sept 20th, Due Sunday September 27th, 11:59 pm\n",
    "### Maximum grade: 22 / 18\n",
    "\n",
    "The purpose of this lab is to:\n",
    "* Become familiar with Jupyter notebooks\n",
    "* Understand how to test your own solutions\n",
    "* Practice writing syntactically correct expressions in Python\n",
    "\n",
    "\n",
    "You are supposed to download this notebook, embed your answers to the questions in the cells below, and submit it through Jupyterhub. \n",
    "\n",
    "Also, try clicking on this cell, then holding down Shift + Enter ;)"
   ]
  },
  {
   "cell_type": "markdown",
   "metadata": {},
   "source": [
    "#### Practice Question (Ungraded)\n",
    "\n",
    "The purpose of this example is to help you understand how to correctly test your code and format it for the autograder.\n",
    "\n",
    "For this example, you need to write a Python function that computes the sum of two numbers.\n",
    "\n",
    "We won't talk about functions yet, but you need to know some basics. The variables in the first line are the ones you are given--in this case, x and y. The variables after the 'return' statement are the ones you need to create. In this example, we want to find the sum of x and y, and call it s. Therefore the code we need to write is just: `s = x + y`.\n",
    "\n",
    "It is also important to note that all of the code in the cell is indented. You will need to write your code so that it is in line with the `return` statement vertically (Jupyter should do this automatically, but it's important to understand)."
   ]
  },
  {
   "cell_type": "code",
   "execution_count": 1,
   "metadata": {
    "deletable": false,
    "nbgrader": {
     "cell_type": "code",
     "checksum": "c5e885e6f6a92a207f300a80ba366cbe",
     "grade": false,
     "grade_id": "cell-3707bfa77316ff0c",
     "locked": false,
     "schema_version": 3,
     "solution": true
    }
   },
   "outputs": [],
   "source": [
    "def add(x, y):  # The variables x and y here are the ones that you are given to work with\n",
    "    \n",
    "    # Your code here\n",
    "    s = x+y\n",
    "    return s # the variable after the 'return' statement is the one you need to create.\n",
    "\n",
    "# YOUR CODE HERE\n",
    "    raise NotImplementedError()"
   ]
  },
  {
   "cell_type": "markdown",
   "metadata": {},
   "source": [
    "The two cells below are _'test'_ cells. After you have written your function above (and run the code cell that it's in), these two cells should evaluate to 'True' when you run them. If not, modify your code cell above, rerun it, and try the tests again.\n",
    "\n",
    "The == operator means \"is equal to\", and the != operator means \"is not equal to\".  \n",
    "\n",
    "When your code is run through the autograder it will be tested in a similar way. However, we will use different test cases, so just because you pass every test case that we provide does not guarantee you will pass every test case that the grader runs."
   ]
  },
  {
   "cell_type": "code",
   "execution_count": 2,
   "metadata": {},
   "outputs": [
    {
     "data": {
      "text/plain": [
       "True"
      ]
     },
     "execution_count": 2,
     "metadata": {},
     "output_type": "execute_result"
    }
   ],
   "source": [
    "add (4,8) == 12"
   ]
  },
  {
   "cell_type": "code",
   "execution_count": 3,
   "metadata": {},
   "outputs": [
    {
     "data": {
      "text/plain": [
       "True"
      ]
     },
     "execution_count": 3,
     "metadata": {},
     "output_type": "execute_result"
    }
   ],
   "source": [
    "add (1,1) != 3"
   ]
  },
  {
   "cell_type": "code",
   "execution_count": null,
   "metadata": {
    "deletable": false,
    "editable": false,
    "nbgrader": {
     "cell_type": "code",
     "checksum": "0d7494741ac432c04d39a3b8d8e44341",
     "grade": true,
     "grade_id": "cell-18546d269ad4c860",
     "locked": true,
     "points": 0,
     "schema_version": 3,
     "solution": false
    }
   },
   "outputs": [],
   "source": []
  },
  {
   "cell_type": "code",
   "execution_count": null,
   "metadata": {
    "deletable": false,
    "editable": false,
    "nbgrader": {
     "cell_type": "code",
     "checksum": "f47971389b139a00accf4fb778d9d696",
     "grade": true,
     "grade_id": "cell-d89e4a9d84db2fcb",
     "locked": true,
     "points": 0,
     "schema_version": 3,
     "solution": false
    }
   },
   "outputs": [],
   "source": []
  },
  {
   "cell_type": "markdown",
   "metadata": {},
   "source": [
    "#### Question 1a (1 point)\n",
    "\n",
    "Does exponentiation bind tighter than multiplication in Python? That is, is `x * y ** z` the same as `x * (y ** z)` or as `(x * y) ** z`?\n",
    "\n",
    "Use the code cell below to run your own tests and figure it out. If it does bind tighter (that is, it is like `x * (y ** z)`), set `ans1` to True by uncommenting the first line. Otherwise, set it to False by uncommenting the second line."
   ]
  },
  {
   "cell_type": "code",
   "execution_count": null,
   "metadata": {},
   "outputs": [],
   "source": []
  },
  {
   "cell_type": "code",
   "execution_count": 54,
   "metadata": {
    "deletable": false,
    "nbgrader": {
     "cell_type": "code",
     "checksum": "3ca0ab13e6ff1fd42e5dda02944af3b5",
     "grade": false,
     "grade_id": "cell-064c05ca867f853d",
     "locked": false,
     "schema_version": 3,
     "solution": true
    }
   },
   "outputs": [
    {
     "name": "stdout",
     "output_type": "stream",
     "text": [
      "16.40941467214771\n",
      "16.40941467214771\n",
      "16.40941467214771\n"
     ]
    }
   ],
   "source": [
    "# Uncomment what you believe to be the correct answer in this cell\n",
    "\n",
    "def question1a():\n",
    "    \n",
    "    ans1 = True\n",
    "    \n",
    "            #ans1 = False\n",
    "    \n",
    "    return ans1\n",
    "# YOUR CODE HERE\n",
    "def Multiply1( x, y , z ):\n",
    "    output1 = x * y **z \n",
    "    return output1\n",
    "\n",
    "print(Multiply1(1, 2.5555 , 2.982 ))\n",
    "\n",
    "def Multiply2( x, y , z ):\n",
    "    output2 = x * (y **z)  \n",
    "    return output2\n",
    "\n",
    "print(Multiply2(1, 2.5555 , 2.982 ))\n",
    "\n",
    "def Multiply3( x, y , z ):\n",
    "    output3 = (x * y )**z \n",
    "    return output3\n",
    "print(Multiply3(1, 2.5555 , 2.982 ))\n",
    "\n",
    "\n",
    "    \n",
    "\n",
    "                #raise NotImplementedError()"
   ]
  },
  {
   "cell_type": "code",
   "execution_count": null,
   "metadata": {
    "deletable": false,
    "editable": false,
    "nbgrader": {
     "cell_type": "code",
     "checksum": "65b2a3250a940c351edd3e06b98cde4a",
     "grade": true,
     "grade_id": "cell-07454e302eb12ca3",
     "locked": true,
     "points": 1,
     "schema_version": 3,
     "solution": false
    }
   },
   "outputs": [],
   "source": []
  },
  {
   "cell_type": "markdown",
   "metadata": {},
   "source": [
    "#### Question 1b (1 point)\n",
    "Does exponentiation bind tighter than unary minus in Python? That is, is `- x ** y` the same as `- (x ** y)` or as `(- x) ** y`? \n",
    "\n",
    "Use the code cell below to run your own tests and figure it out. If it does bind tighter (that is, it is like `- (x ** y)`), set `ans2` to True by uncommenting the first line. Otherwise, set it to False by uncommenting the second line."
   ]
  },
  {
   "cell_type": "code",
   "execution_count": 66,
   "metadata": {},
   "outputs": [],
   "source": [
    "\n",
    "     "
   ]
  },
  {
   "cell_type": "code",
   "execution_count": 111,
   "metadata": {
    "deletable": false,
    "nbgrader": {
     "cell_type": "code",
     "checksum": "9c0e808f0549d7d26f1ec7d0590d2059",
     "grade": false,
     "grade_id": "cell-fa1568f0a3778b5d",
     "locked": false,
     "schema_version": 3,
     "solution": true
    }
   },
   "outputs": [
    {
     "name": "stdout",
     "output_type": "stream",
     "text": [
      "-38.688399999999994\n",
      "-38.688399999999994\n",
      "38.688399999999994\n"
     ]
    }
   ],
   "source": [
    "# Uncomment what you believe to be the correct answer in this cell\n",
    "\n",
    "def question1b():\n",
    "    \n",
    "    ans2 = True\n",
    "    \n",
    "    #ans2 = False\n",
    "    \n",
    "    return ans2\n",
    "# YOUR CODE HERE\n",
    "def function1(x,y):\n",
    "    Output= -x**y \n",
    "    return Output\n",
    "print(function1(6.22,2))\n",
    "\n",
    "\n",
    "def function2(x,y):\n",
    "    Output2=-(x**y) \n",
    "    return Output2 \n",
    "print(function2(6.22,2))\n",
    "\n",
    "\n",
    "def function3(x,y):\n",
    "    Output3=(-x)**y \n",
    "    return Output3 \n",
    "print(function3(6.22,2))\n",
    "\n",
    "\n",
    "\n",
    "\n",
    "\n",
    "\n",
    "\n",
    "\n",
    "\n",
    "\n",
    "\n",
    "    \n",
    "        \n",
    "        \n",
    "        \n",
    "\n",
    "\n",
    "\n",
    "\n",
    "#raise NotImplementedError()"
   ]
  },
  {
   "cell_type": "code",
   "execution_count": null,
   "metadata": {
    "deletable": false,
    "editable": false,
    "nbgrader": {
     "cell_type": "code",
     "checksum": "906be25ac176d00009cafac9d5c2f281",
     "grade": true,
     "grade_id": "cell-daf020f4f35061d5",
     "locked": true,
     "points": 1,
     "schema_version": 3,
     "solution": false
    }
   },
   "outputs": [],
   "source": []
  },
  {
   "cell_type": "code",
   "execution_count": null,
   "metadata": {
    "scrolled": false
   },
   "outputs": [],
   "source": []
  },
  {
   "cell_type": "code",
   "execution_count": null,
   "metadata": {},
   "outputs": [],
   "source": []
  },
  {
   "cell_type": "markdown",
   "metadata": {},
   "source": [
    "#### Question 2: Time Conversion 1 (3 points)\n",
    "\n",
    "Write a Python function that computes number of minutes in the period of `m` minutes, `h` hours, and `d` days."
   ]
  },
  {
   "cell_type": "code",
   "execution_count": 21,
   "metadata": {
    "deletable": false,
    "nbgrader": {
     "cell_type": "code",
     "checksum": "621a26abd0f215686cf10ff14e735330",
     "grade": false,
     "grade_id": "cell-8e1fbfeecdd98b88",
     "locked": false,
     "schema_version": 3,
     "solution": true
    },
    "scrolled": true
   },
   "outputs": [
    {
     "name": "stdout",
     "output_type": "stream",
     "text": [
      "1\n"
     ]
    }
   ],
   "source": [
    "def minutes(m,h,d):\n",
    "    days = int(d)* 60 * 24\n",
    "    hours= int(h) * 60\n",
    "\n",
    "\n",
    "    minutes = int(m)\n",
    "\n",
    "    total_time = days + hours + minutes \n",
    "    return total_time\n",
    "    raise NotImplementedError()\n",
    "print(minutes(1,0,0))\n",
    "\n",
    "\n",
    "\n",
    "\n",
    "    # your code here! \n",
    "    \n",
    "    \n",
    "#return total_time\n",
    "\n",
    "# YOUR CODE HERE\n",
    "    "
   ]
  },
  {
   "cell_type": "markdown",
   "metadata": {},
   "source": [
    "Here are more test cells you can use to check if your code is producing the expected answer."
   ]
  },
  {
   "cell_type": "code",
   "execution_count": 22,
   "metadata": {},
   "outputs": [
    {
     "data": {
      "text/plain": [
       "True"
      ]
     },
     "execution_count": 22,
     "metadata": {},
     "output_type": "execute_result"
    }
   ],
   "source": [
    "minutes(0,0,1) == 1440"
   ]
  },
  {
   "cell_type": "code",
   "execution_count": 23,
   "metadata": {},
   "outputs": [
    {
     "data": {
      "text/plain": [
       "True"
      ]
     },
     "execution_count": 23,
     "metadata": {},
     "output_type": "execute_result"
    }
   ],
   "source": [
    "minutes(1,1,1) == 1501"
   ]
  },
  {
   "cell_type": "code",
   "execution_count": 24,
   "metadata": {},
   "outputs": [
    {
     "data": {
      "text/plain": [
       "True"
      ]
     },
     "execution_count": 24,
     "metadata": {},
     "output_type": "execute_result"
    }
   ],
   "source": [
    "minutes(15234,5472,96728) == 139631874"
   ]
  },
  {
   "cell_type": "code",
   "execution_count": null,
   "metadata": {
    "deletable": false,
    "editable": false,
    "nbgrader": {
     "cell_type": "code",
     "checksum": "053217b55b513324aba2e3b2647fd731",
     "grade": true,
     "grade_id": "cell-8381bc21fb1310d9",
     "locked": true,
     "points": 1,
     "schema_version": 3,
     "solution": false
    }
   },
   "outputs": [],
   "source": []
  },
  {
   "cell_type": "code",
   "execution_count": null,
   "metadata": {
    "deletable": false,
    "editable": false,
    "nbgrader": {
     "cell_type": "code",
     "checksum": "a1a0d16c995130d8e4711beca49d7585",
     "grade": true,
     "grade_id": "cell-ec32691feb5c60e3",
     "locked": true,
     "points": 1,
     "schema_version": 3,
     "solution": false
    }
   },
   "outputs": [],
   "source": []
  },
  {
   "cell_type": "code",
   "execution_count": null,
   "metadata": {
    "deletable": false,
    "editable": false,
    "nbgrader": {
     "cell_type": "code",
     "checksum": "3d389b676e65fbd581f58e680fa3fc4b",
     "grade": true,
     "grade_id": "cell-47e5c9d5608ba108",
     "locked": true,
     "points": 1,
     "schema_version": 3,
     "solution": false
    }
   },
   "outputs": [],
   "source": []
  },
  {
   "cell_type": "code",
   "execution_count": null,
   "metadata": {},
   "outputs": [],
   "source": []
  },
  {
   "cell_type": "markdown",
   "metadata": {},
   "source": [
    "#### Question 3a: Compound Interest with Regular Deposits (2 points)\n",
    "\n",
    "If `p` is the bank's interest rate in decimal (e.g., `0.05` means 5%.) per year, an initial amount `a` will grow after `n` years to: $$a(1 + p)^n$$ Write a Python function `growth(a, p, n)` that returns the future value (that is, the total amount of funds), starting with amount `a`, rate `p`, for `n` years. You can assume that all parameters are non-negative. (Your solution does not need to check for that condition, it should simply assume it.)  The input `p` represents the interest rate as a floating point number. "
   ]
  },
  {
   "cell_type": "code",
   "execution_count": 11,
   "metadata": {
    "deletable": false,
    "nbgrader": {
     "cell_type": "code",
     "checksum": "77c775a010802d70016233cd6d6d2baa",
     "grade": false,
     "grade_id": "cell-b3014ac46adb727c",
     "locked": false,
     "schema_version": 3,
     "solution": true
    }
   },
   "outputs": [
    {
     "name": "stdout",
     "output_type": "stream",
     "text": [
      "1102.5\n"
     ]
    }
   ],
   "source": [
    "def growth(a, p, n):\n",
    "    \n",
    "    # Your Code Here! \n",
    "    s= (𝑎*(1+𝑝)**n )\n",
    "    \n",
    "    return s\n",
    "    raise NotImplementedError()\n",
    "print(growth(1000,0.05,2))\n",
    "# YOUR CODE HERE\n"
   ]
  },
  {
   "cell_type": "code",
   "execution_count": 12,
   "metadata": {},
   "outputs": [
    {
     "data": {
      "text/plain": [
       "True"
      ]
     },
     "execution_count": 12,
     "metadata": {},
     "output_type": "execute_result"
    }
   ],
   "source": [
    "growth (340000,0.0314,25) == 736473.447868039"
   ]
  },
  {
   "cell_type": "code",
   "execution_count": 13,
   "metadata": {},
   "outputs": [
    {
     "data": {
      "text/plain": [
       "True"
      ]
     },
     "execution_count": 13,
     "metadata": {},
     "output_type": "execute_result"
    }
   ],
   "source": [
    "growth (10,0.01,10) == 11.046221254112044"
   ]
  },
  {
   "cell_type": "code",
   "execution_count": 14,
   "metadata": {},
   "outputs": [
    {
     "data": {
      "text/plain": [
       "True"
      ]
     },
     "execution_count": 14,
     "metadata": {},
     "output_type": "execute_result"
    }
   ],
   "source": [
    "growth (65,100,3) == 66969565"
   ]
  },
  {
   "cell_type": "code",
   "execution_count": null,
   "metadata": {
    "deletable": false,
    "editable": false,
    "nbgrader": {
     "cell_type": "code",
     "checksum": "761bf0fb315c4bf0feac5c431140758b",
     "grade": true,
     "grade_id": "cell-75884935eece1935",
     "locked": true,
     "points": 1,
     "schema_version": 3,
     "solution": false
    }
   },
   "outputs": [],
   "source": []
  },
  {
   "cell_type": "code",
   "execution_count": null,
   "metadata": {
    "deletable": false,
    "editable": false,
    "nbgrader": {
     "cell_type": "code",
     "checksum": "669ceabe9cfe23f04c8ef5749529331a",
     "grade": true,
     "grade_id": "cell-a9ea4f0b5ed964d4",
     "locked": true,
     "points": 0.5,
     "schema_version": 3,
     "solution": false
    }
   },
   "outputs": [],
   "source": []
  },
  {
   "cell_type": "code",
   "execution_count": null,
   "metadata": {
    "deletable": false,
    "editable": false,
    "nbgrader": {
     "cell_type": "code",
     "checksum": "631c6e31d487df101cfdfe89357f01f6",
     "grade": true,
     "grade_id": "cell-bf58d609c9416a88",
     "locked": true,
     "points": 0.5,
     "schema_version": 3,
     "solution": false
    }
   },
   "outputs": [],
   "source": []
  },
  {
   "cell_type": "markdown",
   "metadata": {},
   "source": [
    "#### Question 3b (1 point)\n",
    "\n",
    "What is the difference in savings if you invest $2000 for 20 years at 2% vs. 1% interest? Set `ans3` to the difference in savings (as a positive number, rounded to two decimal places) in the cell below.\n",
    "\n",
    "NOTE: you should call the function you wrote in the previous section! "
   ]
  },
  {
   "cell_type": "code",
   "execution_count": 51,
   "metadata": {
    "deletable": false,
    "nbgrader": {
     "cell_type": "code",
     "checksum": "48cea3eab8323ff23db2ce4ce48dfd1a",
     "grade": false,
     "grade_id": "cell-507e7a9170b5b8b6",
     "locked": false,
     "schema_version": 3,
     "solution": true
    }
   },
   "outputs": [
    {
     "name": "stdout",
     "output_type": "stream",
     "text": [
      "531.51\n"
     ]
    }
   ],
   "source": [
    "def question3b():\n",
    "    # your work here!\n",
    "        \n",
    "    # Your Code Here! \n",
    "    ans3=(growth(2000,0.02,20)-growth(2000,0.01,20))\n",
    "    ans3=round(ans3,2)\n",
    "    \n",
    "    return ans3     \n",
    "    raise NotImplementedError()\n",
    "print(question3b())\n",
    "     \n",
    "                \n",
    "\n",
    "        \n",
    "\n",
    "   \n",
    "# YOUR CODE HERE\n"
   ]
  },
  {
   "cell_type": "code",
   "execution_count": null,
   "metadata": {
    "deletable": false,
    "editable": false,
    "nbgrader": {
     "cell_type": "code",
     "checksum": "965bbb0ba0d87381be1d1cfbde3c7f0f",
     "grade": true,
     "grade_id": "cell-30865f6b0271c83b",
     "locked": true,
     "points": 0.5,
     "schema_version": 3,
     "solution": false
    }
   },
   "outputs": [],
   "source": []
  },
  {
   "cell_type": "code",
   "execution_count": null,
   "metadata": {
    "deletable": false,
    "editable": false,
    "nbgrader": {
     "cell_type": "code",
     "checksum": "9414ef88cec5dd8648999cc9583b0415",
     "grade": true,
     "grade_id": "cell-e3a5b5c77d433247",
     "locked": true,
     "points": 0,
     "schema_version": 3,
     "solution": false
    }
   },
   "outputs": [],
   "source": []
  },
  {
   "cell_type": "code",
   "execution_count": null,
   "metadata": {
    "deletable": false,
    "editable": false,
    "nbgrader": {
     "cell_type": "code",
     "checksum": "3d87b83b8f990dd3c5a2fdd97b8f340c",
     "grade": true,
     "grade_id": "cell-2dd3ccdfe6a251c3",
     "locked": true,
     "points": 0,
     "schema_version": 3,
     "solution": false
    }
   },
   "outputs": [],
   "source": []
  },
  {
   "cell_type": "code",
   "execution_count": null,
   "metadata": {
    "deletable": false,
    "editable": false,
    "nbgrader": {
     "cell_type": "code",
     "checksum": "390cfc0001a24a912ca4d6afacc873df",
     "grade": true,
     "grade_id": "cell-a165712b7112e1e7",
     "locked": true,
     "points": 0.5,
     "schema_version": 3,
     "solution": false
    }
   },
   "outputs": [],
   "source": []
  },
  {
   "cell_type": "markdown",
   "metadata": {
    "collapsed": true
   },
   "source": [
    "#### Question 4: Heron's Formula (3 points)\n",
    "\n",
    "Given a triangle with sides `a`, `b`, and `c`, compute its area using Heron’s formula. For this, see the Wikipedia page at http://en.wikipedia.org/wiki/Heron%27s_formula. The formula makes use of square roots. Consult https://docs.python.org/3/ to find out how to use square roots in Python.  "
   ]
  },
  {
   "cell_type": "code",
   "execution_count": 15,
   "metadata": {
    "deletable": false,
    "nbgrader": {
     "cell_type": "code",
     "checksum": "913b990e2a3bc291dbf4af3644b92ada",
     "grade": false,
     "grade_id": "cell-fb10abd49f067b0c",
     "locked": false,
     "schema_version": 3,
     "solution": true
    }
   },
   "outputs": [
    {
     "name": "stdout",
     "output_type": "stream",
     "text": [
      "6.0\n"
     ]
    }
   ],
   "source": [
    "from math import sqrt\n",
    "\n",
    "\n",
    "  \n",
    "   \n",
    "    \n",
    "    \n",
    "    # your code here! \n",
    "    \n",
    "def heron(a,b,c,):\n",
    "   \n",
    "\n",
    "\n",
    "\n",
    "    ans=0.25*((((a+b+c)*(-a+b+c)*(a-b+c)*(a+b-c))**0.5))\n",
    "\n",
    "\n",
    "    return ans\n",
    "    raise NotImplementedError()\n",
    "\n",
    "print(heron(5,3,4))\n",
    "# YOUR CODE HERE\n",
    " \n"
   ]
  },
  {
   "cell_type": "code",
   "execution_count": 16,
   "metadata": {},
   "outputs": [],
   "source": [
    "assert(heron(15,20,25) == 150)"
   ]
  },
  {
   "cell_type": "code",
   "execution_count": 17,
   "metadata": {},
   "outputs": [],
   "source": [
    "assert(round(heron(1,1,sqrt(2)),1) == 0.5)  \n",
    "#Sidenote for the curious: round() is a built-in python function for rounding out floating points to zero or specified decimal precision\n",
    "#          It should not be required for your solution to this question."
   ]
  },
  {
   "cell_type": "code",
   "execution_count": null,
   "metadata": {
    "deletable": false,
    "editable": false,
    "nbgrader": {
     "cell_type": "code",
     "checksum": "62ba9eb9fbf36494af41223f36deef96",
     "grade": true,
     "grade_id": "cell-56411e7e1fa83d67",
     "locked": true,
     "points": 1,
     "schema_version": 3,
     "solution": false
    }
   },
   "outputs": [],
   "source": []
  },
  {
   "cell_type": "code",
   "execution_count": null,
   "metadata": {
    "deletable": false,
    "editable": false,
    "nbgrader": {
     "cell_type": "code",
     "checksum": "31f9d51731571d0480dfa0cbd804fc2c",
     "grade": true,
     "grade_id": "cell-c90301206109558d",
     "locked": true,
     "points": 1,
     "schema_version": 3,
     "solution": false
    }
   },
   "outputs": [],
   "source": []
  },
  {
   "cell_type": "code",
   "execution_count": null,
   "metadata": {
    "deletable": false,
    "editable": false,
    "nbgrader": {
     "cell_type": "code",
     "checksum": "311eb1b2c1a72b1b02dc6872034b3fed",
     "grade": true,
     "grade_id": "cell-222c5a2d44cb7f63",
     "locked": true,
     "points": 1,
     "schema_version": 3,
     "solution": false
    }
   },
   "outputs": [],
   "source": []
  },
  {
   "cell_type": "markdown",
   "metadata": {},
   "source": [
    "#### Question 5: Quadratic Formula (3 points)\n",
    "\n",
    "In Python, it is possible to return multiple values/variables in one return expression, as shown below.  Use this fact to compute and return both solutions to the quadratic formula, $$x_{1}, x_{2} = \\frac{-b\\pm\\sqrt{b^2-4ac}}{2a} $$. \n",
    "\n",
    "<br> Write a program that takes a, b, and c as input and solves for $x_1$ and $x_2$.\n",
    "<br>You may assume that $ b^2 - 4ac \\geq 0$. Let $x_1$ be the solution where you add the term under the square root term, and $x_2$ be the solution where you subtract the square root term."
   ]
  },
  {
   "cell_type": "code",
   "execution_count": 18,
   "metadata": {
    "deletable": false,
    "nbgrader": {
     "cell_type": "code",
     "checksum": "b2460449f7a7cc3d3f0fea34a068d738",
     "grade": false,
     "grade_id": "cell-ae0a89b15e2b132c",
     "locked": false,
     "schema_version": 3,
     "solution": true
    }
   },
   "outputs": [
    {
     "name": "stdout",
     "output_type": "stream",
     "text": [
      "((-0.7596153846153846+1.084818243440704j), (-0.7596153846153847-1.084818243440704j))\n"
     ]
    }
   ],
   "source": [
    "from math import sqrt\n",
    "\n",
    "def quadratic(a, b, c):\n",
    "    \n",
    "    # Your code here.\n",
    "    x1= (-b+((b**2-4*a*c)**0.5))/(2*a)\n",
    "    x2=(-b-((b**2-4*a*c)**0.5))/(2*a)\n",
    "    \n",
    "    return (x1, x2)\n",
    "    raise NotImplementedError()\n",
    "print(quadratic(5.2,7.9,9.12))\n",
    "# YOUR CODE HERE\n"
   ]
  },
  {
   "cell_type": "code",
   "execution_count": 19,
   "metadata": {},
   "outputs": [],
   "source": [
    "assert(quadratic(1,7,12) == (-3.0,-4.0) or quadratic(1,7,12) == (-4.0,-3.0))"
   ]
  },
  {
   "cell_type": "code",
   "execution_count": 20,
   "metadata": {},
   "outputs": [],
   "source": [
    "assert(quadratic(5,6,1) == (-0.2,-1.0) or quadratic(5,6,1) == (-1.0,-0.2))"
   ]
  },
  {
   "cell_type": "code",
   "execution_count": null,
   "metadata": {
    "deletable": false,
    "editable": false,
    "nbgrader": {
     "cell_type": "code",
     "checksum": "9c5870a57565ead6e2d7e7476ab05564",
     "grade": true,
     "grade_id": "cell-36452d55c2766957",
     "locked": true,
     "points": 1,
     "schema_version": 3,
     "solution": false
    }
   },
   "outputs": [],
   "source": []
  },
  {
   "cell_type": "code",
   "execution_count": null,
   "metadata": {
    "deletable": false,
    "editable": false,
    "nbgrader": {
     "cell_type": "code",
     "checksum": "686ab092b2528b763eadbd416a8613e4",
     "grade": true,
     "grade_id": "cell-c2c27acbca51356d",
     "locked": true,
     "points": 1,
     "schema_version": 3,
     "solution": false
    }
   },
   "outputs": [],
   "source": []
  },
  {
   "cell_type": "code",
   "execution_count": null,
   "metadata": {
    "deletable": false,
    "editable": false,
    "nbgrader": {
     "cell_type": "code",
     "checksum": "5e05e9957a945872492a8e984906e3cd",
     "grade": true,
     "grade_id": "cell-8fe5e1b8201ee10d",
     "locked": true,
     "points": 1,
     "schema_version": 3,
     "solution": false
    }
   },
   "outputs": [],
   "source": []
  },
  {
   "cell_type": "markdown",
   "metadata": {},
   "source": [
    "#### Question 6: Time Conversion 2 (2 points)\n",
    "\n",
    "Write a Python function that computes the number of days, hours, and minutes in a given number of minutes (essentially, do the opposite of question 2).\n",
    "\n",
    "HINT: Check out the documentation on `math.floor()`"
   ]
  },
  {
   "cell_type": "code",
   "execution_count": 21,
   "metadata": {
    "deletable": false,
    "nbgrader": {
     "cell_type": "code",
     "checksum": "f6315d815f2826fa8fdfce3502aafa7f",
     "grade": false,
     "grade_id": "cell-d93d31039c2fa21a",
     "locked": false,
     "schema_version": 3,
     "solution": true
    }
   },
   "outputs": [
    {
     "name": "stdout",
     "output_type": "stream",
     "text": [
      "(1, 1, 0)\n"
     ]
    }
   ],
   "source": [
    " def daysHoursMinutes(m):\n",
    "    \n",
    "    h , m = divmod( m,60)\n",
    "    d , h = divmod(h,24)\n",
    "    \n",
    "    total_time=(d ,h,m)\n",
    "    \n",
    "    return total_time \n",
    "    raise NotImplementedError()\n",
    "m= 1500\n",
    "   \n",
    "print(daysHoursMinutes(m)) \n"
   ]
  },
  {
   "cell_type": "code",
   "execution_count": 22,
   "metadata": {},
   "outputs": [
    {
     "data": {
      "text/plain": [
       "True"
      ]
     },
     "execution_count": 22,
     "metadata": {},
     "output_type": "execute_result"
    }
   ],
   "source": [
    "daysHoursMinutes(60) == (0, 1, 0)"
   ]
  },
  {
   "cell_type": "code",
   "execution_count": 23,
   "metadata": {},
   "outputs": [
    {
     "data": {
      "text/plain": [
       "True"
      ]
     },
     "execution_count": 23,
     "metadata": {},
     "output_type": "execute_result"
    }
   ],
   "source": [
    "daysHoursMinutes(2000) == (1, 9, 20)"
   ]
  },
  {
   "cell_type": "code",
   "execution_count": 24,
   "metadata": {},
   "outputs": [
    {
     "data": {
      "text/plain": [
       "True"
      ]
     },
     "execution_count": 24,
     "metadata": {},
     "output_type": "execute_result"
    }
   ],
   "source": [
    "daysHoursMinutes(93665926) == (65045, 18, 46)"
   ]
  },
  {
   "cell_type": "code",
   "execution_count": null,
   "metadata": {
    "deletable": false,
    "editable": false,
    "nbgrader": {
     "cell_type": "code",
     "checksum": "b7425c80b7214e6878422ba356bf04b9",
     "grade": true,
     "grade_id": "cell-8eebfd6d1c685293",
     "locked": true,
     "points": 0.5,
     "schema_version": 3,
     "solution": false
    }
   },
   "outputs": [],
   "source": []
  },
  {
   "cell_type": "code",
   "execution_count": null,
   "metadata": {
    "deletable": false,
    "editable": false,
    "nbgrader": {
     "cell_type": "code",
     "checksum": "b14cbf4a2c71dcd65fb5606b21c53ec8",
     "grade": true,
     "grade_id": "cell-1f652a5bd2cc239c",
     "locked": true,
     "points": 0.5,
     "schema_version": 3,
     "solution": false
    }
   },
   "outputs": [],
   "source": []
  },
  {
   "cell_type": "code",
   "execution_count": 115,
   "metadata": {},
   "outputs": [
    {
     "name": "stdout",
     "output_type": "stream",
     "text": [
      "3:25:45\n"
     ]
    }
   ],
   "source": []
  },
  {
   "cell_type": "code",
   "execution_count": null,
   "metadata": {
    "deletable": false,
    "editable": false,
    "nbgrader": {
     "cell_type": "code",
     "checksum": "63668fe9db82537fcb47a96292f82d4f",
     "grade": true,
     "grade_id": "cell-93eaeb6889281442",
     "locked": true,
     "points": 0.5,
     "schema_version": 3,
     "solution": false
    }
   },
   "outputs": [],
   "source": []
  },
  {
   "cell_type": "code",
   "execution_count": null,
   "metadata": {
    "deletable": false,
    "editable": false,
    "nbgrader": {
     "cell_type": "code",
     "checksum": "c133590bec8707d2641069e0ef78cc7f",
     "grade": true,
     "grade_id": "cell-a32a3345575ca13c",
     "locked": true,
     "points": 0.5,
     "schema_version": 3,
     "solution": false
    }
   },
   "outputs": [],
   "source": []
  },
  {
   "cell_type": "markdown",
   "metadata": {},
   "source": [
    "#### Question 7: Newton's Law of Universal Gravitation (2 points)\n",
    "\n",
    "Newton's law of universal gravitation states that the force of gravity exerted on two masses is equal to the product of their masses and the universal gravitational constant `G`, divided by the square of the distance separating them: \n",
    "\n",
    "$$F_{G} = \\frac{Gm_{1}m_{2}}{d^{2}} $$. \n",
    "\n",
    "implement a python function `gravityClassic` which, given masses `m1`, `m2`, and the distance between them `d`, returns the force of gravity exerted on them.  "
   ]
  },
  {
   "cell_type": "code",
   "execution_count": 25,
   "metadata": {
    "deletable": false,
    "nbgrader": {
     "cell_type": "code",
     "checksum": "e45d00df8f3a931f52ea03bc7882987b",
     "grade": false,
     "grade_id": "cell-41cfafa778777ace",
     "locked": false,
     "schema_version": 3,
     "solution": true
    }
   },
   "outputs": [
    {
     "name": "stdout",
     "output_type": "stream",
     "text": [
      "6.674e-11\n"
     ]
    }
   ],
   "source": [
    "def gravityClassic(m1,m2,d):\n",
    "    #6.67408 × 10-11\n",
    "    # Your code here.\n",
    "    Fg=(6.67408*(10**(-11))*(m1*m2))/(d**2)\n",
    "    Fg=round(Fg,14)\n",
    "    \n",
    "    return Fg\n",
    "    raise NotImplementedError()\n",
    "print(gravityClassic(3,3,3))\n",
    "# YOUR CODE HERE\n"
   ]
  },
  {
   "cell_type": "code",
   "execution_count": 26,
   "metadata": {},
   "outputs": [],
   "source": [
    "assert(gravityClassic(3,3,3) == 6.674e-11)"
   ]
  },
  {
   "cell_type": "code",
   "execution_count": 27,
   "metadata": {},
   "outputs": [],
   "source": [
    "assert(round(gravityClassic(597200,69300,3), 1) == 0.3)"
   ]
  },
  {
   "cell_type": "code",
   "execution_count": null,
   "metadata": {
    "deletable": false,
    "editable": false,
    "nbgrader": {
     "cell_type": "code",
     "checksum": "2dc5d20d32dbdb2cdbd8c49a5cc8cf69",
     "grade": true,
     "grade_id": "cell-04de92ed26028c02",
     "locked": true,
     "points": 1,
     "schema_version": 3,
     "solution": false
    }
   },
   "outputs": [],
   "source": []
  },
  {
   "cell_type": "code",
   "execution_count": null,
   "metadata": {
    "deletable": false,
    "editable": false,
    "nbgrader": {
     "cell_type": "code",
     "checksum": "e11305a20f0eab6e10eeef28a505222f",
     "grade": true,
     "grade_id": "cell-62c984216e271144",
     "locked": true,
     "points": 1,
     "schema_version": 3,
     "solution": false
    }
   },
   "outputs": [],
   "source": []
  },
  {
   "cell_type": "markdown",
   "metadata": {},
   "source": [
    "#### Bonus: Dr. Cooper’s Breakfast Egg (4 points)\n",
    "\n",
    "Dr. Chicken Cooper is serious about his breakfast eggs. He is aware that as an egg cooks, the proteins first denature and then coagulate. When the temperature exceeds a critical point, reactions begin and proceed faster as the temperature increases. In the egg white the proteins start to coagulate for temperatures above $63C$, while in the yolk the proteins start to coagulate for temperatures above $70C$. For a soft-boiled egg, the egg white needs to have been heated long enough to coagulate at a temperature above $63$C, but the yolk should not be heated above $70C$. For a hard boiled egg, the center of the yolk should be allowed to reach $70C$. The following formula expresses the time t it takes (in seconds) for the center of the yolk to reach the temperature:\n",
    "\n",
    "> $\\large t = \\frac{M^{2/3}cϱ^{1/3}}{K π^2 (4π / 3)^{2/3}} \\ln{\\left[0.76\\frac{T_0 - T_w}{T_y - T_w}\\right]}$\n",
    "\n",
    "Here, $M$, $ϱ$, $c$, and $K$ are properties of the egg: $M$ is the mass, $ϱ$ is the density, $c$ is the specific heat capacity, and $K$ is the thermal conductivity. Relevant values are $ϱ =1.038g~cm^{-3}$, $c = 3.7Jg^{-1}K^{-1}$, and $K = 5.4\\times10^{-3}W~cm^{-1}~K^{-1}$. Furthermore, $T_w$ is the temperature (in $C$ degrees) of the boiling water, $100C$, and $T_0$ is the original temperature (in $C$ degree) of the egg before being put in the water. For $T_y$ take $70C$. Write a Python function that helps Dr. Cooper to determine the correct cooking time. The function should take $M$ and $T_0$ as parameters. Run your implementation with $M=47g$ for a small egg and $M=67g$ for a larger egg and with $T_0=4C$ for an egg taken from the fridge and $T_0=20C$ for an egg with room temperature.\n"
   ]
  },
  {
   "cell_type": "code",
   "execution_count": 33,
   "metadata": {
    "deletable": false,
    "nbgrader": {
     "cell_type": "code",
     "checksum": "1410fa0fa441cdc03743bf5a7341ca85",
     "grade": false,
     "grade_id": "cell-d7b46dcdd9a78e85",
     "locked": false,
     "schema_version": 3,
     "solution": true
    }
   },
   "outputs": [
    {
     "name": "stdout",
     "output_type": "stream",
     "text": [
      "396.5763425294507\n"
     ]
    }
   ],
   "source": [
    "from math import log, pi\n",
    "import math \n",
    "\n",
    "\n",
    "def correctCookingTime(m, t0):\n",
    "    q=1.038\n",
    "    c=3.7\n",
    "    k=5.4*(10**-3)\n",
    "        \n",
    "    a=(m)**(2/3)\n",
    "    x=(a*c*q**(1/3))\n",
    "    y=(0.76*((t0-100)/(-30)))\n",
    "    b=(log(y))\n",
    "       \n",
    "    c=(k*(pi**2)*((4*pi/(3))**(2/3)))\n",
    "    \n",
    "    z=(x)*(b)\n",
    "    t =(z)/(c)\n",
    "    \n",
    "    \n",
    "    \n",
    "    \n",
    "    return t\n",
    "    raise NotImplementedError()                                                   \n",
    "print(correctCookingTime(67,4))\n",
    "    \n",
    "# YOUR CODE HERE\n"
   ]
  },
  {
   "cell_type": "code",
   "execution_count": 34,
   "metadata": {},
   "outputs": [
    {
     "data": {
      "text/plain": [
       "True"
      ]
     },
     "execution_count": 34,
     "metadata": {},
     "output_type": "execute_result"
    }
   ],
   "source": [
    "correctCookingTime(47,4) == 313.09454902221637"
   ]
  },
  {
   "cell_type": "code",
   "execution_count": 35,
   "metadata": {},
   "outputs": [
    {
     "data": {
      "text/plain": [
       "False"
      ]
     },
     "execution_count": 35,
     "metadata": {},
     "output_type": "execute_result"
    }
   ],
   "source": [
    "correctCookingTime(47,20) == 248.86253747844736"
   ]
  },
  {
   "cell_type": "code",
   "execution_count": 36,
   "metadata": {},
   "outputs": [
    {
     "data": {
      "text/plain": [
       "True"
      ]
     },
     "execution_count": 36,
     "metadata": {},
     "output_type": "execute_result"
    }
   ],
   "source": [
    "correctCookingTime(67,4) == 396.5763425294507"
   ]
  },
  {
   "cell_type": "code",
   "execution_count": 37,
   "metadata": {},
   "outputs": [
    {
     "data": {
      "text/plain": [
       "True"
      ]
     },
     "execution_count": 37,
     "metadata": {},
     "output_type": "execute_result"
    }
   ],
   "source": [
    "correctCookingTime(67,20) == 315.2178637859262"
   ]
  },
  {
   "cell_type": "code",
   "execution_count": null,
   "metadata": {
    "deletable": false,
    "editable": false,
    "nbgrader": {
     "cell_type": "code",
     "checksum": "7e96370deede32c39322e0e11b07eea3",
     "grade": true,
     "grade_id": "cell-e964be5e28c94a43",
     "locked": true,
     "points": 2,
     "schema_version": 3,
     "solution": false
    }
   },
   "outputs": [],
   "source": []
  },
  {
   "cell_type": "code",
   "execution_count": null,
   "metadata": {
    "deletable": false,
    "editable": false,
    "nbgrader": {
     "cell_type": "code",
     "checksum": "ad64d79461962d624053747b1ba58c2f",
     "grade": true,
     "grade_id": "cell-68673ac5aab00098",
     "locked": true,
     "points": 2,
     "schema_version": 3,
     "solution": false
    }
   },
   "outputs": [],
   "source": []
  },
  {
   "cell_type": "code",
   "execution_count": null,
   "metadata": {},
   "outputs": [],
   "source": []
  },
  {
   "cell_type": "code",
   "execution_count": null,
   "metadata": {},
   "outputs": [],
   "source": []
  },
  {
   "cell_type": "code",
   "execution_count": null,
   "metadata": {},
   "outputs": [],
   "source": []
  }
 ],
 "metadata": {
  "kernelspec": {
   "display_name": "Python 3",
   "language": "python",
   "name": "python3"
  },
  "language_info": {
   "codemirror_mode": {
    "name": "ipython",
    "version": 3
   },
   "file_extension": ".py",
   "mimetype": "text/x-python",
   "name": "python",
   "nbconvert_exporter": "python",
   "pygments_lexer": "ipython3",
   "version": "3.7.3"
  }
 },
 "nbformat": 4,
 "nbformat_minor": 1
}
