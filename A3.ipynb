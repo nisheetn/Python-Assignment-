{
 "cells": [
  {
   "cell_type": "raw",
   "metadata": {},
   "source": [
    "### Lab 3 Assigned Sunday Oct 4; Due Sunday Oct 11, 11:59pm\n",
    "### Maximum grade: 32 / 26\n",
    "\n",
    "The purpose of this lab is to:\n",
    "* Become familiar with for loops\n",
    "* Understand functions that can be applied to lists\n",
    "* Practice working with dictionaries\n",
    "\n",
    "\n",
    "You are supposed to download this notebook, embed your answers to the questions in the cells below, and submit it through JupyterHub.  "
   ]
  },
  {
   "cell_type": "markdown",
   "metadata": {},
   "source": [
    "### Practice Question: Word Frequency\n",
    "\n",
    "Given a sentence, s, produce a dictionary that tells you the number of times each word occurs in a string. You may assume each word is lowercase, there are no contractions, and each word is separated by a space.  Please note, your function must return the created dictionary."
   ]
  },
  {
   "cell_type": "code",
   "execution_count": null,
   "metadata": {},
   "outputs": [],
   "source": [
    "def wordFrequency(s):\n",
    "    # Your code here!"
   ]
  },
  {
   "cell_type": "code",
   "execution_count": null,
   "metadata": {},
   "outputs": [],
   "source": [
    "wordFrequency(\"was it a car or cat i saw or was it a kangaroo\") == {'a': 2,\n",
    " 'car': 1,\n",
    " 'cat': 1,\n",
    " 'i': 1,\n",
    " 'it': 2,\n",
    " 'kangaroo': 1,\n",
    " 'or': 2,\n",
    " 'saw': 1,\n",
    " 'was': 2}"
   ]
  },
  {
   "cell_type": "code",
   "execution_count": null,
   "metadata": {},
   "outputs": [],
   "source": [
    "wordFrequency(\"this sentence has too too many repeated repeated words\") == {'has': 1,\n",
    " 'many': 1,\n",
    " 'repeated': 2,\n",
    " 'sentence': 1,\n",
    " 'this': 1,\n",
    " 'too': 2,\n",
    " 'words': 1}"
   ]
  },
  {
   "cell_type": "markdown",
   "metadata": {},
   "source": [
    "### Question 1a: Span of a List (1 points)\n",
    "\n",
    "The span, or range of a list of numbers is the difference between the largest and smallest elements of the list. Write a Python function **span(l)** that takes a non-empty list **l** of numbers and returns the span:"
   ]
  },
  {
   "cell_type": "code",
   "execution_count": 5,
   "metadata": {
    "deletable": false,
    "nbgrader": {
     "cell_type": "code",
     "checksum": "4928e72d6789a4235ebd67d980db04cb",
     "grade": false,
     "grade_id": "cell-7705867d2bca8d4f",
     "locked": false,
     "schema_version": 3,
     "solution": true
    }
   },
   "outputs": [],
   "source": [
    "def span(l):\n",
    "    # your code here! \n",
    "    \n",
    "    x=max(l)-min(l)\n",
    "    return x\n",
    "    raise NotImplementedError()\n",
    "# YOUR CODE HERE\n"
   ]
  },
  {
   "cell_type": "code",
   "execution_count": 9,
   "metadata": {},
   "outputs": [
    {
     "name": "stdout",
     "output_type": "stream",
     "text": [
      "Are my sample test cases correct?\n",
      "#1 True\n",
      "#2 True\n",
      "#3 True\n"
     ]
    }
   ],
   "source": [
    "print(\"Are my sample test cases correct?\")\n",
    "print(\"#1\", span([5,4,3,2,1]) == 4)\n",
    "print(\"#2\", span([1,2,3,4,5]) == 4)\n",
    "print(\"#3\", span([3,2,1,2,3,4,5,4,3,2,1]) == 4)\n",
    "\n"
   ]
  },
  {
   "cell_type": "code",
   "execution_count": null,
   "metadata": {
    "deletable": false,
    "editable": false,
    "nbgrader": {
     "cell_type": "code",
     "checksum": "d831112caf7a2c6030f740e7e383f92c",
     "grade": true,
     "grade_id": "cell-7cf9369f9c83d433",
     "locked": true,
     "points": 0,
     "schema_version": 3,
     "solution": false
    }
   },
   "outputs": [],
   "source": []
  },
  {
   "cell_type": "code",
   "execution_count": null,
   "metadata": {
    "deletable": false,
    "editable": false,
    "nbgrader": {
     "cell_type": "code",
     "checksum": "f9312304c5378c7e20c77f1cb7c9b025",
     "grade": true,
     "grade_id": "cell-f01921fe4a4cd058",
     "locked": true,
     "points": 1,
     "schema_version": 3,
     "solution": false
    }
   },
   "outputs": [],
   "source": []
  },
  {
   "cell_type": "code",
   "execution_count": null,
   "metadata": {
    "deletable": false,
    "editable": false,
    "nbgrader": {
     "cell_type": "code",
     "checksum": "09e99f9170f69d319e99ce42a08d9b12",
     "grade": true,
     "grade_id": "cell-486f7cdc6b7072c5",
     "locked": true,
     "points": 0,
     "schema_version": 3,
     "solution": false
    }
   },
   "outputs": [],
   "source": []
  },
  {
   "cell_type": "markdown",
   "metadata": {},
   "source": [
    "### Question 1b: Bound of a List (1 points)\n",
    "\n",
    "The bound of a list of numbers is a pair with the smallest and largest number. Write a Python function **bound(l)** that takes non-empty list **l** and returns its bound as a tuple with signature order (min,max)."
   ]
  },
  {
   "cell_type": "code",
   "execution_count": 12,
   "metadata": {
    "deletable": false,
    "nbgrader": {
     "cell_type": "code",
     "checksum": "ecf375fcf62870ba60e25758cbb4fd7e",
     "grade": false,
     "grade_id": "cell-ba4ea05b0acec81a",
     "locked": false,
     "schema_version": 3,
     "solution": true
    }
   },
   "outputs": [],
   "source": [
    "def bound(l):\n",
    "    # your hode cere! \n",
    "    x=min(l)\n",
    "    y=max(l)\n",
    "    b=(x,y)\n",
    "    return b\n",
    "    raise NotImplementedError()\n",
    "# YOUR CODE HERE\n",
    "\n"
   ]
  },
  {
   "cell_type": "code",
   "execution_count": 15,
   "metadata": {},
   "outputs": [
    {
     "name": "stdout",
     "output_type": "stream",
     "text": [
      "Are my sample test cases correct?\n",
      "#1 True\n",
      "#2 True\n",
      "#3 True\n"
     ]
    }
   ],
   "source": [
    "print(\"Are my sample test cases correct?\")\n",
    "print(\"#1\", bound([1,6,3,7,9,1]) == (1,9))\n",
    "print(\"#2\", bound([1,2,3,4,5]) == (1,5))\n",
    "print(\"#3\", bound([3,2,1,2,3,4,5,4,3,2,1]) == (1,5))"
   ]
  },
  {
   "cell_type": "code",
   "execution_count": null,
   "metadata": {
    "deletable": false,
    "editable": false,
    "nbgrader": {
     "cell_type": "code",
     "checksum": "cc71fa2a9ce860e1b0902282d581c4e4",
     "grade": true,
     "grade_id": "cell-f9cc63f5a1def021",
     "locked": true,
     "points": 0,
     "schema_version": 3,
     "solution": false
    }
   },
   "outputs": [],
   "source": []
  },
  {
   "cell_type": "code",
   "execution_count": null,
   "metadata": {
    "deletable": false,
    "editable": false,
    "nbgrader": {
     "cell_type": "code",
     "checksum": "3e3073fdab0bf2c80fbe2c9b9cb91979",
     "grade": true,
     "grade_id": "cell-4507dc84c7076897",
     "locked": true,
     "points": 1,
     "schema_version": 3,
     "solution": false
    }
   },
   "outputs": [],
   "source": []
  },
  {
   "cell_type": "code",
   "execution_count": null,
   "metadata": {
    "deletable": false,
    "editable": false,
    "nbgrader": {
     "cell_type": "code",
     "checksum": "b0441191d146df8e05e3484165ed6d5f",
     "grade": true,
     "grade_id": "cell-e1c0f34535608b82",
     "locked": true,
     "points": 0,
     "schema_version": 3,
     "solution": false
    }
   },
   "outputs": [],
   "source": []
  },
  {
   "cell_type": "markdown",
   "metadata": {},
   "source": [
    "### Question 1c: Arithmetic Mean of a List (2 points)\n",
    "\n",
    "The arithmetic mean of a series $x$ of $n$ numbers is defined as: $$ \\frac{1}{n} \\sum{x} $$.\n",
    "\n",
    "Write a function **arithmetic_mean(l)** that takes a non-empty list **l** and returns its arithmetic mean as a floating-point number."
   ]
  },
  {
   "cell_type": "code",
   "execution_count": 16,
   "metadata": {
    "deletable": false,
    "nbgrader": {
     "cell_type": "code",
     "checksum": "b6d6f1cb6b710f093a355fd2ddaf4b3e",
     "grade": false,
     "grade_id": "cell-4f1662bda2bb64cb",
     "locked": false,
     "schema_version": 3,
     "solution": true
    }
   },
   "outputs": [],
   "source": [
    "def arithmetic_mean(l):\n",
    "    # you're code hear! \n",
    "    x=sum(l)\n",
    "    y=len(l)\n",
    "    mean=x/y\n",
    "    return mean\n",
    "    raise NotImplementedError()\n",
    "# YOUR CODE HERE\n"
   ]
  },
  {
   "cell_type": "code",
   "execution_count": 19,
   "metadata": {},
   "outputs": [
    {
     "name": "stdout",
     "output_type": "stream",
     "text": [
      "Are my sample test cases correct?\n",
      "#1 True\n",
      "#2 True\n",
      "#3 True\n"
     ]
    }
   ],
   "source": [
    "print(\"Are my sample test cases correct?\")\n",
    "print(\"#1\", arithmetic_mean([1,6,3,7,9,1]) == 4.5)\n",
    "print(\"#2\", arithmetic_mean([1,2,3,4,5]) == 3.0)\n",
    "print(\"#3\", arithmetic_mean([3,2,1,2,3,4,5,4,3,2]) == 2.9)"
   ]
  },
  {
   "cell_type": "code",
   "execution_count": null,
   "metadata": {
    "deletable": false,
    "editable": false,
    "nbgrader": {
     "cell_type": "code",
     "checksum": "69dab9f6d3985546254cd538e33087bc",
     "grade": true,
     "grade_id": "cell-3a32de1026482acd",
     "locked": true,
     "points": 0,
     "schema_version": 3,
     "solution": false
    }
   },
   "outputs": [],
   "source": []
  },
  {
   "cell_type": "code",
   "execution_count": null,
   "metadata": {
    "deletable": false,
    "editable": false,
    "nbgrader": {
     "cell_type": "code",
     "checksum": "08c3042b037bdc1b43a27b07c8a11ed9",
     "grade": true,
     "grade_id": "cell-610fb99d0ff84328",
     "locked": true,
     "points": 1,
     "schema_version": 3,
     "solution": false
    }
   },
   "outputs": [],
   "source": []
  },
  {
   "cell_type": "code",
   "execution_count": null,
   "metadata": {
    "deletable": false,
    "editable": false,
    "nbgrader": {
     "cell_type": "code",
     "checksum": "11ac7d2da78d5f6fccc40f8453ff5542",
     "grade": true,
     "grade_id": "cell-559e7045f9d4cc12",
     "locked": true,
     "points": 1,
     "schema_version": 3,
     "solution": false
    }
   },
   "outputs": [],
   "source": []
  },
  {
   "cell_type": "markdown",
   "metadata": {},
   "source": [
    "###  Question 2 : Dictionaries using Dictionaries (3 points)\n",
    "\n",
    "Create a python function 'transliterate', which accepts no arguments and returns a nested dictionary meeting the following requirements.  The purpose of this dictionary is to specify a language and a word or phrase, and get as a result the translation of that word or phrase in the specified language.  This will require double indexing, as seen in the test cases below.  \n",
    "\n",
    "The first key will be the language, the second the word to be translated.  Your dictionary must minimally contain entries for the languages: German, Icelandic, Japanese, and Polish.  The words to be translated will minimally be: Hello, Goodbye, and Acute Digestive Distress.  All words using Romanized characters must be capitalized.\n",
    "\n",
    "Translations are to be taken from the first/default result from entering the words or phrases into Google Translate.  The dictionary entries need to be character-correct, so accents and non-english characters must be present and accounted for.  \n",
    "\n",
    "HINT: For clarity and aesthetics, it is possible to put different likes of a long dictionary or list delcaration on different lines in the code.  One might declare a 2d list as shown below:"
   ]
  },
  {
   "cell_type": "code",
   "execution_count": 56,
   "metadata": {
    "deletable": false,
    "nbgrader": {
     "cell_type": "code",
     "checksum": "48bc2ecd9da2df982d7935f314fe0810",
     "grade": false,
     "grade_id": "cell-2988440bb20bb427",
     "locked": false,
     "schema_version": 3,
     "solution": true,
     "task": false
    }
   },
   "outputs": [],
   "source": [
    "#x = [ [ 1 , 2 ] \n",
    "#    , [ 3 , 4 ] \n",
    "#    ]\n",
    "\n",
    "def transliterate () :\n",
    "    dictionary ={\"Japanese\":{\"Hello\":\"こんにちは\" ,\"Goodbye\":\"さようなら\",\"Acute Digestive Distress\":\"急性消化器系の苦痛\"}\n",
    "                 ,\"Polish\":{\"Hello\":\"cześć\" ,\"Goodbye\":\"Do Widzenia\",\"Acute Digestive Distress\":\"Ostre Zaburzenia Trawienne\"},\n",
    "                \"German\":{\"Hello\":\"Hallo\" ,\"Goodbye\":\"Auf Wiedersehen\",\"Acute Digestive Distress\":\"Akute Verdauungsbeschwerden\"},\n",
    "                \"Icelandic\":{\"Hello\":\"Halló\" ,\"Goodbye\":\"Bless\",\"Acute Digestive Distress\":\"Bráð Meltingartruflanir\"}}\n",
    "   \n",
    "        \n",
    "    return dictionary\n",
    "    raise NotImplementedError()       \n",
    "        \n",
    "        \n",
    "            \n",
    "        \n",
    "        \n",
    "\n",
    "    \n",
    "    \n",
    "# YOUR CODE HERE\n"
   ]
  },
  {
   "cell_type": "code",
   "execution_count": 57,
   "metadata": {},
   "outputs": [
    {
     "name": "stdout",
     "output_type": "stream",
     "text": [
      "Are my sample test cases correct?\n",
      "#1 True\n",
      "#2 True\n",
      "#3 True\n"
     ]
    }
   ],
   "source": [
    "print(\"Are my sample test cases correct?\")\n",
    "print(\"#1\", transliterate()[\"German\"][\"Goodbye\"] == \"Auf Wiedersehen\")\n",
    "print(\"#2\", transliterate()[\"Icelandic\"][\"Acute Digestive Distress\"] == \"Bráð Meltingartruflanir\")\n",
    "print(\"#3\", transliterate()[\"Japanese\"][\"Hello\"] == \"こんにちは\")"
   ]
  },
  {
   "cell_type": "code",
   "execution_count": null,
   "metadata": {
    "deletable": false,
    "editable": false,
    "nbgrader": {
     "cell_type": "code",
     "checksum": "43844e683f42451d034aa8bd0e8185e9",
     "grade": true,
     "grade_id": "cell-e314fbcffcd6ae5c",
     "locked": true,
     "points": 1,
     "schema_version": 3,
     "solution": false,
     "task": false
    }
   },
   "outputs": [],
   "source": []
  },
  {
   "cell_type": "code",
   "execution_count": null,
   "metadata": {
    "deletable": false,
    "editable": false,
    "nbgrader": {
     "cell_type": "code",
     "checksum": "6e59d1e6f9d73d6d2789d38102ca8369",
     "grade": true,
     "grade_id": "cell-5dff643243fbd7b8",
     "locked": true,
     "points": 1,
     "schema_version": 3,
     "solution": false,
     "task": false
    }
   },
   "outputs": [],
   "source": []
  },
  {
   "cell_type": "code",
   "execution_count": null,
   "metadata": {
    "deletable": false,
    "editable": false,
    "nbgrader": {
     "cell_type": "code",
     "checksum": "8d36fdbd2fccaea751c4546439cee37d",
     "grade": true,
     "grade_id": "cell-006744f10b06b560",
     "locked": true,
     "points": 1,
     "schema_version": 3,
     "solution": false,
     "task": false
    }
   },
   "outputs": [],
   "source": []
  },
  {
   "cell_type": "code",
   "execution_count": 41,
   "metadata": {},
   "outputs": [
    {
     "ename": "TypeError",
     "evalue": "list indices must be integers or slices, not str",
     "output_type": "error",
     "traceback": [
      "\u001b[1;31m---------------------------------------------------------------------------\u001b[0m",
      "\u001b[1;31mTypeError\u001b[0m                                 Traceback (most recent call last)",
      "\u001b[1;32m<ipython-input-41-a64382d5dc04>\u001b[0m in \u001b[0;36m<module>\u001b[1;34m\u001b[0m\n\u001b[1;32m----> 1\u001b[1;33m \u001b[0mdictionary\u001b[0m\u001b[1;33m[\u001b[0m\u001b[1;34m\"Japanese\"\u001b[0m\u001b[1;33m]\u001b[0m\u001b[1;33m[\u001b[0m\u001b[1;34m\"Hello\"\u001b[0m\u001b[1;33m]\u001b[0m\u001b[1;33m==\u001b[0m\u001b[1;34m\"Hello\"\u001b[0m\u001b[1;33m\u001b[0m\u001b[1;33m\u001b[0m\u001b[0m\n\u001b[0m",
      "\u001b[1;31mTypeError\u001b[0m: list indices must be integers or slices, not str"
     ]
    }
   ],
   "source": [
    "dictionary[\"Japanese\"][\"Hello\"]==\"Hello\""
   ]
  },
  {
   "cell_type": "code",
   "execution_count": null,
   "metadata": {},
   "outputs": [],
   "source": [
    " \n"
   ]
  },
  {
   "cell_type": "code",
   "execution_count": null,
   "metadata": {},
   "outputs": [],
   "source": [
    "\n",
    "   "
   ]
  },
  {
   "cell_type": "code",
   "execution_count": null,
   "metadata": {},
   "outputs": [],
   "source": [
    "\n"
   ]
  },
  {
   "cell_type": "markdown",
   "metadata": {},
   "source": [
    "### Question 2: Subset Sum (3 points)\n",
    "\n",
    "Write a function subsetsum(l, s) that determines if there are any two numbers in the list l that add to s.\n",
    "\n",
    "e.g., for ([1, 2, 3], 5), it would be True, since 2 + 3 = 5.\n",
    "<br>([1, 2, 3], 6) would be false since there are no two numbers that add to six in the list (you cannot use the same value of three twice). On the contrary, if the input were ([1, 2, 3, 3], 6), this would be true because there are two 3s in the list."
   ]
  },
  {
   "cell_type": "code",
   "execution_count": 61,
   "metadata": {
    "deletable": false,
    "nbgrader": {
     "cell_type": "code",
     "checksum": "956977187cb688d8b8284eb6787ea9fb",
     "grade": false,
     "grade_id": "cell-56fe833be8ec0c52",
     "locked": false,
     "schema_version": 3,
     "solution": true
    }
   },
   "outputs": [],
   "source": [
    "def subsetsum(l, s):\n",
    "    # You are coding in this box I think! \n",
    "    Listofsumpairs=[]\n",
    "    for i in l :\n",
    "        for y in l:\n",
    "             Listofsumpairs+=[i+y]\n",
    "                \n",
    "    if s in Listofsumpairs :\n",
    "        return True \n",
    "    else:\n",
    "        return False \n",
    "            \n",
    "        \n",
    "        \n",
    "    \n",
    "    \n",
    "    \n",
    "    \n",
    "    return x\n",
    "    raise NotImplementedError()\n",
    "# YOUR CODE HERE\n"
   ]
  },
  {
   "cell_type": "code",
   "execution_count": 64,
   "metadata": {},
   "outputs": [
    {
     "name": "stdout",
     "output_type": "stream",
     "text": [
      "Are my sample test cases correct?\n",
      "#1 True\n",
      "#2 True\n",
      "#3 True\n"
     ]
    }
   ],
   "source": [
    "print(\"Are my sample test cases correct?\")\n",
    "print(\"#1\", subsetsum([1, 2, 3], 5) == True)\n",
    "print(\"#2\", subsetsum([1, 2, 2], 5) == False)\n",
    "print(\"#3\", subsetsum([1, 2, 3, 3], 6) == True)"
   ]
  },
  {
   "cell_type": "code",
   "execution_count": null,
   "metadata": {
    "deletable": false,
    "editable": false,
    "nbgrader": {
     "cell_type": "code",
     "checksum": "7a6c21bc8f81efc8d756a568d878bf26",
     "grade": true,
     "grade_id": "cell-ca105771be89b50d",
     "locked": true,
     "points": 1,
     "schema_version": 3,
     "solution": false
    }
   },
   "outputs": [],
   "source": []
  },
  {
   "cell_type": "code",
   "execution_count": null,
   "metadata": {
    "deletable": false,
    "editable": false,
    "nbgrader": {
     "cell_type": "code",
     "checksum": "a68554035cad5ea2aabc5621d9a5a0d5",
     "grade": true,
     "grade_id": "cell-39d6d7293c014c3a",
     "locked": true,
     "points": 1,
     "schema_version": 3,
     "solution": false
    }
   },
   "outputs": [],
   "source": []
  },
  {
   "cell_type": "code",
   "execution_count": null,
   "metadata": {
    "deletable": false,
    "editable": false,
    "nbgrader": {
     "cell_type": "code",
     "checksum": "8c74ddd7d797978ecf4445672c82aa6d",
     "grade": true,
     "grade_id": "cell-c58bba4cad3030c9",
     "locked": true,
     "points": 1,
     "schema_version": 3,
     "solution": false
    }
   },
   "outputs": [],
   "source": []
  },
  {
   "cell_type": "markdown",
   "metadata": {},
   "source": [
    "### Question 3a: Shortening Sentences (2 points)\n",
    "To speed up texting your friends, you are thinking of leaving out all vowels. Write a Python function `shorten(s)` that takes an arbitrary string and removes all uppercase and lowercase vowels."
   ]
  },
  {
   "cell_type": "code",
   "execution_count": 78,
   "metadata": {
    "deletable": false,
    "nbgrader": {
     "cell_type": "code",
     "checksum": "b5e1db62133f838486fd91f68dc3b424",
     "grade": false,
     "grade_id": "cell-65c8032599b11d2d",
     "locked": false,
     "schema_version": 3,
     "solution": true
    }
   },
   "outputs": [],
   "source": [
    "def shorten(s):\n",
    "    # Code Code Code!\n",
    "    #A, E, I, O, U\n",
    "    \n",
    "    r1=s.replace('a','')\n",
    "    r2=r1.replace('e','')\n",
    "    r3=r2.replace('i','')\n",
    "    r4=r3.replace('o','')\n",
    "    r5=r4.replace('u','')\n",
    "    r6=r5.replace('A','')\n",
    "    r7=r6.replace('E','')\n",
    "    r8=r7.replace('I','')\n",
    "    r9=r8.replace('O','')\n",
    "    x=r9.replace('U','')\n",
    "    \n",
    "    \n",
    "    \n",
    "    \n",
    "    \n",
    "    \n",
    "    return x\n",
    "    raise NotImplementedError()\n",
    "# YOUR CODE HERE\n"
   ]
  },
  {
   "cell_type": "code",
   "execution_count": 79,
   "metadata": {},
   "outputs": [
    {
     "name": "stdout",
     "output_type": "stream",
     "text": [
      "Are my sample test cases correct?\n",
      "#1 True\n",
      "#2 True\n",
      "#3 True\n"
     ]
    }
   ],
   "source": [
    "print(\"Are my sample test cases correct?\")\n",
    "print(\"#1\", shorten(\"Something always happens when I'm trying to concentrate!\") == \"Smthng lwys hppns whn 'm tryng t cncntrt!\")\n",
    "print(\"#2\", shorten(\"I am the very model of a modern major general\") == ' m th vry mdl f  mdrn mjr gnrl')\n",
    "print(\"#3\", shorten(\"queueing\") == \"qng\")\n"
   ]
  },
  {
   "cell_type": "code",
   "execution_count": null,
   "metadata": {
    "deletable": false,
    "editable": false,
    "nbgrader": {
     "cell_type": "code",
     "checksum": "1132fd3e71f250354ed2286feb51c6e5",
     "grade": true,
     "grade_id": "cell-0d5a06250221fe31",
     "locked": true,
     "points": 0,
     "schema_version": 3,
     "solution": false
    }
   },
   "outputs": [],
   "source": []
  },
  {
   "cell_type": "code",
   "execution_count": null,
   "metadata": {
    "deletable": false,
    "editable": false,
    "nbgrader": {
     "cell_type": "code",
     "checksum": "8d7959734ada61a33042fc45f85bcdc7",
     "grade": true,
     "grade_id": "cell-19680394a6728f48",
     "locked": true,
     "points": 0,
     "schema_version": 3,
     "solution": false
    }
   },
   "outputs": [],
   "source": []
  },
  {
   "cell_type": "code",
   "execution_count": null,
   "metadata": {
    "deletable": false,
    "editable": false,
    "nbgrader": {
     "cell_type": "code",
     "checksum": "8a7b71e1e0fecb1d1486cfd372982261",
     "grade": true,
     "grade_id": "cell-ed072a06d32bf5d6",
     "locked": true,
     "points": 1,
     "schema_version": 3,
     "solution": false
    }
   },
   "outputs": [],
   "source": []
  },
  {
   "cell_type": "code",
   "execution_count": null,
   "metadata": {
    "deletable": false,
    "editable": false,
    "nbgrader": {
     "cell_type": "code",
     "checksum": "1b45490a76501039899080f4ba3b7668",
     "grade": true,
     "grade_id": "cell-ca95196d125f3cf6",
     "locked": true,
     "points": 1,
     "schema_version": 3,
     "solution": false
    }
   },
   "outputs": [],
   "source": []
  },
  {
   "cell_type": "markdown",
   "metadata": {},
   "source": [
    "### Question 3b: Shortening Sentence II (4 points)\n",
    "\n",
    "You find out that the resulting words are sometime incomprehensible and like to improve your method by removing only those vowels that directly follow another letter. This means keeping the vowel at the beginning of a word--specifically, any letter following a space. Write a Python function `shortenPlus(s)` that takes an arbitrary string and removes some vowels."
   ]
  },
  {
   "cell_type": "code",
   "execution_count": 5,
   "metadata": {
    "deletable": false,
    "nbgrader": {
     "cell_type": "code",
     "checksum": "0164854871820c36d79e1ca1d5f69a37",
     "grade": false,
     "grade_id": "cell-1ba4c37aaa3df114",
     "locked": false,
     "schema_version": 3,
     "solution": true
    }
   },
   "outputs": [],
   "source": [
    "def shortenPlus(s):\n",
    "    # Yore Code 'Ere Mate!\n",
    "    mylist=s.split()\n",
    "    okay=\"\"\n",
    "    for i in range(len(mylist)):\n",
    "        t = mylist[i][0]\n",
    "        okay+= t\n",
    "        r = mylist[i][1:]\n",
    "        for lett in r:\n",
    "            if lett in \"AEIOUaeiou\":\n",
    "                pass\n",
    "            else:\n",
    "                okay+=lett\n",
    "        okay+= \" \"\n",
    "        if i == len(mylist) - 1:\n",
    "               okay = okay[:-1]\n",
    "    return okay\n",
    "      \n",
    "        \n",
    "        \n"
   ]
  },
  {
   "cell_type": "code",
   "execution_count": 6,
   "metadata": {},
   "outputs": [
    {
     "name": "stdout",
     "output_type": "stream",
     "text": [
      "Are my sample test cases correct?\n",
      "#1 True\n",
      "#2 True\n",
      "#3 True\n"
     ]
    }
   ],
   "source": [
    "print(\"Are my sample test cases correct?\")\n",
    "print(\"#1\", shortenPlus(\"I've information vegetable, animal and mineral\") == \"I'v infrmtn vgtbl, anml and mnrl\")\n",
    "print(\"#2\", shortenPlus(\"I know the kings of England and I quote the facts historical\") == 'I knw th kngs of Englnd and I qt th fcts hstrcl')\n",
    "print(\"#3\", shortenPlus(\"From Marathon to Waterloo in order categorical\") == 'Frm Mrthn t Wtrl in ordr ctgrcl')"
   ]
  },
  {
   "cell_type": "code",
   "execution_count": null,
   "metadata": {
    "deletable": false,
    "editable": false,
    "nbgrader": {
     "cell_type": "code",
     "checksum": "b265baa34c94015322eb233feab26a32",
     "grade": true,
     "grade_id": "cell-b87ffa5ceede2d97",
     "locked": true,
     "points": 1,
     "schema_version": 3,
     "solution": false
    }
   },
   "outputs": [],
   "source": []
  },
  {
   "cell_type": "code",
   "execution_count": null,
   "metadata": {
    "deletable": false,
    "editable": false,
    "nbgrader": {
     "cell_type": "code",
     "checksum": "addae8a3b00c5961cd0b6be40a1c2cb9",
     "grade": true,
     "grade_id": "cell-f4090e185350a4a4",
     "locked": true,
     "points": 1,
     "schema_version": 3,
     "solution": false
    }
   },
   "outputs": [],
   "source": []
  },
  {
   "cell_type": "code",
   "execution_count": null,
   "metadata": {
    "deletable": false,
    "editable": false,
    "nbgrader": {
     "cell_type": "code",
     "checksum": "59a2df242b0d877bb956febdd2d8eb88",
     "grade": true,
     "grade_id": "cell-57076d342b508fbf",
     "locked": true,
     "points": 1,
     "schema_version": 3,
     "solution": false
    }
   },
   "outputs": [],
   "source": []
  },
  {
   "cell_type": "code",
   "execution_count": null,
   "metadata": {
    "deletable": false,
    "editable": false,
    "nbgrader": {
     "cell_type": "code",
     "checksum": "b59fdd4397c851c01569a3236a071961",
     "grade": true,
     "grade_id": "cell-98104977cfd2ac53",
     "locked": true,
     "points": 1,
     "schema_version": 3,
     "solution": false
    }
   },
   "outputs": [],
   "source": []
  },
  {
   "cell_type": "markdown",
   "metadata": {},
   "source": [
    "### Question 4: University Majors (3 points)\n",
    "\n",
    "Given a dictionary that tells you a person's major, write a Python function that, given a person's name and a major, returns `True` if that person is majoring that subject, and `False` otherwise.  Also return false if the student is not in the list of students.  "
   ]
  },
  {
   "cell_type": "code",
   "execution_count": 57,
   "metadata": {
    "deletable": false,
    "nbgrader": {
     "cell_type": "code",
     "checksum": "c2a3979bf4a3988b1d9624594a8f65fc",
     "grade": false,
     "grade_id": "cell-bb25ab5ea4a52366",
     "locked": false,
     "schema_version": 3,
     "solution": true
    }
   },
   "outputs": [],
   "source": [
    "def check_major(name, major, majors_dict):\n",
    "    # Code 'em up!\n",
    "    \n",
    "        \n",
    "        if majors_dict [name]==major :\n",
    "            return True \n",
    "        else:\n",
    "            return False \n",
    "\n",
    "    \n",
    "    \n",
    "        return \"None of the above\"\n",
    "        raise NotImplementedError()\n",
    "# YOUR CODE HERE\n"
   ]
  },
  {
   "cell_type": "code",
   "execution_count": 58,
   "metadata": {},
   "outputs": [
    {
     "name": "stdout",
     "output_type": "stream",
     "text": [
      "Are my sample test cases correct?\n",
      "#1 True\n",
      "#2 True\n",
      "#3 True\n"
     ]
    }
   ],
   "source": [
    "majors_1 = {\"Josh\": \"Engineering\", \"Carol\": \"Accounting\", \"Douglas\": \"Art History\", \"Irene\": \"Engineering\", \"Robert\": \"Engineering\", \"Christine\": \"Accounting\", \"Nick\": \"Underwater Basket Weaving\", \"Charles\": \"Accounting\"}\n",
    "print(\"Are my sample test cases correct?\")\n",
    "print(\"#1\", check_major(\"Douglas\", \"Art History\", majors_1) == True)\n",
    "print(\"#2\", check_major(\"Irene\", \"A Major That Doesn't Exist\", majors_1) == False)\n",
    "print(\"#3\", check_major(\"Nick\", \"Underwater Basket Weaving\", majors_1) == True)"
   ]
  },
  {
   "cell_type": "code",
   "execution_count": null,
   "metadata": {
    "deletable": false,
    "editable": false,
    "nbgrader": {
     "cell_type": "code",
     "checksum": "b15ef1a334028f9d5ae2c917c0776f40",
     "grade": true,
     "grade_id": "cell-35911cbc81bec71f",
     "locked": true,
     "points": 1,
     "schema_version": 3,
     "solution": false
    }
   },
   "outputs": [],
   "source": []
  },
  {
   "cell_type": "code",
   "execution_count": null,
   "metadata": {
    "deletable": false,
    "editable": false,
    "nbgrader": {
     "cell_type": "code",
     "checksum": "49053690ee4781299ccaf80b69173490",
     "grade": true,
     "grade_id": "cell-91abd320266ae175",
     "locked": true,
     "points": 1,
     "schema_version": 3,
     "solution": false
    }
   },
   "outputs": [],
   "source": []
  },
  {
   "cell_type": "code",
   "execution_count": null,
   "metadata": {
    "deletable": false,
    "editable": false,
    "nbgrader": {
     "cell_type": "code",
     "checksum": "c4eeba6d439356f615408d044ddc14f5",
     "grade": true,
     "grade_id": "cell-ce4735f27a5f058f",
     "locked": true,
     "points": 1,
     "schema_version": 3,
     "solution": false,
     "task": false
    }
   },
   "outputs": [],
   "source": []
  },
  {
   "cell_type": "markdown",
   "metadata": {},
   "source": [
    "### Question 4b: University Majors II (3 points)\n",
    "\n",
    "Given a dictonary that instead maps majors to lists of names, repeat the above question."
   ]
  },
  {
   "cell_type": "code",
   "execution_count": 81,
   "metadata": {
    "deletable": false,
    "nbgrader": {
     "cell_type": "code",
     "checksum": "eaf201c05dbc575370cd484c0f5661f7",
     "grade": false,
     "grade_id": "cell-8e040c7a1188ffc0",
     "locked": false,
     "schema_version": 3,
     "solution": true
    }
   },
   "outputs": [],
   "source": [
    "def check_major2(name, major, major_dictionary):\n",
    "    # The thought of picking any one of these is too unbearable,\n",
    "    #   Just put me down as undecided: Every Major's Terrible. \n",
    "    if major in major_dictionary :\n",
    "        return True \n",
    "    else:\n",
    "        return False\n",
    "    if major_dictionary [major] == [name]:\n",
    "        return True \n",
    "    else:\n",
    "        return False\n",
    "    \n",
    "        \n",
    "    return \"x?\"\n",
    "    raise NotImplementedError()\n",
    "# YOUR CODE HERE\n"
   ]
  },
  {
   "cell_type": "code",
   "execution_count": 82,
   "metadata": {},
   "outputs": [
    {
     "name": "stdout",
     "output_type": "stream",
     "text": [
      "Are my sample test cases correct?\n",
      "#1 True\n",
      "#2 True\n",
      "#3 True\n"
     ]
    }
   ],
   "source": [
    "majors_2 = {\"Engineering\": [\"Josh\", \"Robert\", \"Irene\"], \"Accounting\": [\"Carol\", \"Christine\", \"Charles\"], \"Art History\": [\"Douglas\"], \"Underwater Basket Weaving\": [\"Nick\"]}\n",
    "print(\"Are my sample test cases correct?\")\n",
    "print(\"#1\", check_major2(\"Douglas\", \"Art History\", majors_2) == True)\n",
    "print(\"#2\", check_major2(\"Irene\", \"A Major That Doesn't Exist\", majors_2) == False)\n",
    "print(\"#3\", check_major2(\"Nick\", \"Underwater Basket Weaving\", majors_2) == True)\n"
   ]
  },
  {
   "cell_type": "code",
   "execution_count": null,
   "metadata": {
    "deletable": false,
    "editable": false,
    "nbgrader": {
     "cell_type": "code",
     "checksum": "efd48032778b6c4f4783063dd664531c",
     "grade": true,
     "grade_id": "cell-1170c86ad0e1eeb9",
     "locked": true,
     "points": 1,
     "schema_version": 3,
     "solution": false
    }
   },
   "outputs": [],
   "source": []
  },
  {
   "cell_type": "code",
   "execution_count": null,
   "metadata": {
    "deletable": false,
    "editable": false,
    "nbgrader": {
     "cell_type": "code",
     "checksum": "07f736f691c6fd3c278a0aa52fb58a41",
     "grade": true,
     "grade_id": "cell-07189e0cad7a1a2c",
     "locked": true,
     "points": 1,
     "schema_version": 3,
     "solution": false
    }
   },
   "outputs": [],
   "source": []
  },
  {
   "cell_type": "code",
   "execution_count": null,
   "metadata": {
    "deletable": false,
    "editable": false,
    "nbgrader": {
     "cell_type": "code",
     "checksum": "196b3625a378a65d84e0f7ab8f5e6854",
     "grade": true,
     "grade_id": "cell-cb4a1de3c179ed01",
     "locked": true,
     "points": 1,
     "schema_version": 3,
     "solution": false,
     "task": false
    }
   },
   "outputs": [],
   "source": []
  },
  {
   "cell_type": "markdown",
   "metadata": {},
   "source": [
    "### Question 5 (4 points)\n",
    "\n",
    "In computing, a checksum is a simple but effective way to verify the integrity of transmitted data.  Given a list of data and a checksum value, return true or false, based on whether the data matches the checksum value.  \n",
    "\n",
    "To compute the data from the checksum value, compute the sum of the list.  Compute the four least significant bits of the sum and return from the function whether or not these four bits match the checksum given as an argument.  \n",
    "\n",
    "This may be helpful... https://wiki.python.org/moin/BitwiseOperators"
   ]
  },
  {
   "cell_type": "code",
   "execution_count": 9,
   "metadata": {
    "deletable": false,
    "nbgrader": {
     "cell_type": "code",
     "checksum": "edb06415db264c21326a2d2934f61442",
     "grade": false,
     "grade_id": "cell-ce9ecc08bbfd23f0",
     "locked": false,
     "schema_version": 3,
     "solution": true
    }
   },
   "outputs": [],
   "source": [
    "def checksum (l, checksumValue) :\n",
    "     # Yooouuur cooodeee heeereee\n",
    "    s=sum(l)\n",
    "    p=int(bin(s)[-4:],2)\n",
    "    if p== checksumValue:\n",
    "        x=True \n",
    "    else:\n",
    "        x=False \n",
    "    \n",
    "    \n",
    "    return x\n",
    "    raise NotImplementedError()\n",
    "# YOUR CODE HERE\n"
   ]
  },
  {
   "cell_type": "code",
   "execution_count": 10,
   "metadata": {},
   "outputs": [
    {
     "name": "stdout",
     "output_type": "stream",
     "text": [
      "Are my sample test cases correct?\n",
      "#1 True\n",
      "#2 True\n",
      "#3 True\n"
     ]
    }
   ],
   "source": [
    "print(\"Are my sample test cases correct?\")\n",
    "print(\"#1\", checksum([152,627,925,857,821,122,625,334,675], 0x2)) # <= These are hexadecimal literals! \n",
    "print(\"#2\", checksum([13,72,83,94,14,52,62,72,52,31,7,13,77,25], 0xB)) # <= These are hexadecimal literals! \n",
    "print(\"#3\", checksum([92573974,18629742,57929859,19349291,39869296476], 0xE)) # <= These are hexadecimal literals! \n",
    "\n"
   ]
  },
  {
   "cell_type": "code",
   "execution_count": null,
   "metadata": {
    "deletable": false,
    "editable": false,
    "nbgrader": {
     "cell_type": "code",
     "checksum": "60aada96d0cbe74671d8510a765fa7b1",
     "grade": true,
     "grade_id": "cell-c5f84d592b0ed89e",
     "locked": true,
     "points": 1,
     "schema_version": 3,
     "solution": false
    }
   },
   "outputs": [],
   "source": []
  },
  {
   "cell_type": "code",
   "execution_count": null,
   "metadata": {
    "deletable": false,
    "editable": false,
    "nbgrader": {
     "cell_type": "code",
     "checksum": "cfa3c1a99ff7d6ef45e278735f7abbdd",
     "grade": true,
     "grade_id": "cell-2f811803549e4647",
     "locked": true,
     "points": 2,
     "schema_version": 3,
     "solution": false
    }
   },
   "outputs": [],
   "source": []
  },
  {
   "cell_type": "code",
   "execution_count": null,
   "metadata": {
    "deletable": false,
    "editable": false,
    "nbgrader": {
     "cell_type": "code",
     "checksum": "ffc4fd38fa4c2e5926cd7789fe938949",
     "grade": true,
     "grade_id": "cell-763d7ab321f16144",
     "locked": true,
     "points": 1,
     "schema_version": 3,
     "solution": false
    }
   },
   "outputs": [],
   "source": []
  },
  {
   "cell_type": "markdown",
   "metadata": {},
   "source": [
    "### Bonus: 1337 h4x0r (6 p01n+\\$)\n",
    "\n",
    "Write a function that translates an English sentence to leetspeak.\n",
    "\n",
    "<br>Hints: You will want to turn your sentence into a list of words, replace those, and then turn it back into a sentence before replacing letters. To turn a list of words into a sentence, you can use the syntax:\n",
    "<br>`new_sentence = \" \".join(old_list)`\n",
    "<br>This will join all the values in \"old list\" into a string, separated by spaces.\n",
    "<br>If you want to determine if a word is in your dictionary, use \"if word in dictionary.keys()\"\n",
    "\n",
    "You may assume that the sentences are, much like YouTube comments, devoid of any punctuation or capitalization.\n",
    "\n",
    "\n",
    "Use the following general algorithm:\n",
    "Replace the following words:<ul>\n",
    "<li>elite -> leet\n",
    "<li>the -> teh\n",
    "<li>hacker -> haxor\n",
    "<li>hack -> hax\n",
    "<li>own -> pwn\n",
    "<li>owned -> pwned\n",
    "<li>dude -> dood\n",
    "<li>rocks -> roxxorz\n",
    "<li>awesome -> awezome            \n",
    "<li>internet -> teh tubes\n",
    "<li>ever -> evarr\n",
    "<li>1md3 -> most awesome course ever\n",
    "</ul>\n",
    "<br>If any word ends with an 's', replace it with a 'z'\n",
    "\n",
    "Replace the following letters:<ul>\n",
    "<li>a -> \"@\"\n",
    "<li>e -> \"3\"\n",
    "<li>t -> \"7\"\n",
    "<li>l -> \"1\"\n",
    "<li>o -> \"0\"\n",
    "<li>s -> \"$\"\n",
    "</ul>\n",
    "\n",
    "Replace the words before replacing the letters, so that the replaced words will have the replaced letters"
   ]
  },
  {
   "cell_type": "code",
   "execution_count": null,
   "metadata": {
    "deletable": false,
    "nbgrader": {
     "cell_type": "code",
     "checksum": "defe060280ac0549ea624cfea89a26c2",
     "grade": false,
     "grade_id": "cell-3cfdf97d4124c821",
     "locked": false,
     "schema_version": 3,
     "solution": true
    }
   },
   "outputs": [],
   "source": [
    "def leet(s):\n",
    "# 'Pri7h33 7@k3 3@rn3$7 3ff0r7 70 p1@c3 $uch w0rdz in $uffici3n7 3nvir0nz 70 3x3mp1ify 73h m0$7 @ff1u3n7 0f in73113c7u@1i7i3z'    \n",
    "    return stuff\n",
    "    \n",
    "# YOUR CODE HERE\n",
    "raise NotImplementedError()"
   ]
  },
  {
   "cell_type": "code",
   "execution_count": null,
   "metadata": {},
   "outputs": [],
   "source": [
    "print(\"How'd I do?!\")\n",
    "print(\"#1 - \", leet(\"I'm very well acquainted too with matters mathematical\") == \"I'm v3ry w311 @cqu@in73d 700 wi7h m@773rz m@7h3m@7ic@1\")\n",
    "print(\"#2 - \", leet(\"I understand equations both the simple and quadratical\") == \"I und3r$7@nd 3qu@7i0nz b07h 73h $imp13 @nd qu@dr@7ic@1\")\n",
    "print(\"#3 - \", leet(\"About binomial theorem I'm teeming with a lot of news\") == \"Ab0u7 bin0mi@1 7h30r3m I'm 733ming wi7h @ 107 0f n3wz\")\n",
    "print(\"#4 - \", leet(\"With many cheerful facts about the square of the hypotenuse!\") == \"Wi7h m@ny ch33rfu1 f@c7z @b0u7 73h $qu@r3 0f 73h hyp073nu$3!\")"
   ]
  },
  {
   "cell_type": "code",
   "execution_count": null,
   "metadata": {
    "deletable": false,
    "editable": false,
    "nbgrader": {
     "cell_type": "code",
     "checksum": "2a149206c84b1d1fc60401e22e2d3524",
     "grade": true,
     "grade_id": "cell-6cab645b7f1e46bd",
     "locked": true,
     "points": 2,
     "schema_version": 3,
     "solution": false
    }
   },
   "outputs": [],
   "source": []
  },
  {
   "cell_type": "code",
   "execution_count": null,
   "metadata": {
    "deletable": false,
    "editable": false,
    "nbgrader": {
     "cell_type": "code",
     "checksum": "0ad8bf97c939b47a56cce55ef43a0a21",
     "grade": true,
     "grade_id": "cell-125e0cd7bd93211e",
     "locked": true,
     "points": 2,
     "schema_version": 3,
     "solution": false
    }
   },
   "outputs": [],
   "source": []
  },
  {
   "cell_type": "code",
   "execution_count": null,
   "metadata": {
    "deletable": false,
    "editable": false,
    "nbgrader": {
     "cell_type": "code",
     "checksum": "1b1b89ff10252045eb2233f535b08df3",
     "grade": true,
     "grade_id": "cell-a0ea821ccc46b6ca",
     "locked": true,
     "points": 2,
     "schema_version": 3,
     "solution": false
    }
   },
   "outputs": [],
   "source": []
  },
  {
   "cell_type": "code",
   "execution_count": null,
   "metadata": {},
   "outputs": [],
   "source": []
  }
 ],
 "metadata": {
  "kernelspec": {
   "display_name": "Python 3",
   "language": "python",
   "name": "python3"
  },
  "language_info": {
   "codemirror_mode": {
    "name": "ipython",
    "version": 3
   },
   "file_extension": ".py",
   "mimetype": "text/x-python",
   "name": "python",
   "nbconvert_exporter": "python",
   "pygments_lexer": "ipython3",
   "version": "3.8.5"
  }
 },
 "nbformat": 4,
 "nbformat_minor": 1
}
